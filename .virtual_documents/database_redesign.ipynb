# Database Redesign - Clean and Simple Structure
import psycopg2
from psycopg2 import sql
import pandas as pd
import os
from dotenv import load_dotenv

# Load environment variables
load_dotenv()

# Database connection parameters - UPDATE THESE WITH YOUR ACTUAL VALUES
DB_PARAMS = {
    "dbname": os.getenv("DB_NAME", "postgres"),
    "user": os.getenv("DB_USER", "postgres.chdjmbylbqdsavazecll"),
    "password": os.getenv("DB_PASSWORD", "Hexen2002_23"),
    "host": os.getenv("DB_HOST", "aws-1-eu-west-2.pooler.supabase.com"),
    "port": os.getenv("DB_PORT", "6543")
}

# Test connection
def test_connection():
    try:
        conn = psycopg2.connect(**DB_PARAMS)
        cursor = conn.cursor()
        cursor.execute("SELECT version();")
        version = cursor.fetchone()[0]
        print(f"✅ Connected successfully!")
        print(f"Database version: {version}")
        cursor.close()
        conn.close()
        return True
    except Exception as e:
        print(f"❌ Connection failed: {e}")
        return False

# Test the connection
print("Testing database connection...")
test_connection()


# Clean Database Schema Design
# This will create a simple, well-structured database

def create_clean_schema():
    """Drop existing messy tables and create clean structure"""
    
    conn = psycopg2.connect(**DB_PARAMS)
    cursor = conn.cursor()
    
    try:
        print("🧹 Cleaning up existing tables...")
        
        # Drop existing tables (in correct order to handle foreign keys)
        drop_tables = [
            "DROP TABLE IF EXISTS inventory_movements CASCADE;",
            "DROP TABLE IF EXISTS invoice_items CASCADE;", 
            "DROP TABLE IF EXISTS invoices CASCADE;",
            "DROP TABLE IF EXISTS products CASCADE;",
            "DROP TABLE IF EXISTS customers CASCADE;",
            "DROP TABLE IF EXISTS cities CASCADE;",
            "DROP TABLE IF EXISTS test_table CASCADE;"
        ]
        
        for drop_sql in drop_tables:
            cursor.execute(drop_sql)
            print(f"✅ {drop_sql}")
        
        print("\n📋 Creating new clean tables...")
        
        # 1. Cities table (lookup table)
        cursor.execute("""
            CREATE TABLE cities (
                city_id SERIAL PRIMARY KEY,
                city_name VARCHAR(100) NOT NULL UNIQUE,
                created_at TIMESTAMP DEFAULT NOW()
            );
        """)
        print("✅ Created cities table")
        
        # 2. Customers table
        cursor.execute("""
            CREATE TABLE customers (
                customer_id SERIAL PRIMARY KEY,
                name VARCHAR(100) NOT NULL,
                email VARCHAR(100) UNIQUE,
                phone VARCHAR(20),
                city_id INTEGER REFERENCES cities(city_id),
                created_at TIMESTAMP DEFAULT NOW()
            );
        """)
        print("✅ Created customers table")
        
        # 3. Products table
        cursor.execute("""
            CREATE TABLE products (
                product_id SERIAL PRIMARY KEY,
                name VARCHAR(100) NOT NULL,
                category VARCHAR(50),
                price DECIMAL(10,2) NOT NULL,
                cost DECIMAL(10,2),
                stock INTEGER DEFAULT 0,
                created_at TIMESTAMP DEFAULT NOW()
            );
        """)
        print("✅ Created products table")
        
        # 4. Invoices table
        cursor.execute("""
            CREATE TABLE invoices (
                invoice_id SERIAL PRIMARY KEY,
                customer_id INTEGER NOT NULL REFERENCES customers(customer_id),
                invoice_date DATE NOT NULL DEFAULT CURRENT_DATE,
                total_amount DECIMAL(12,2) NOT NULL,
                status VARCHAR(20) DEFAULT 'completed',
                created_at TIMESTAMP DEFAULT NOW()
            );
        """)
        print("✅ Created invoices table")
        
        # 5. Invoice items table
        cursor.execute("""
            CREATE TABLE invoice_items (
                item_id SERIAL PRIMARY KEY,
                invoice_id INTEGER NOT NULL REFERENCES invoices(invoice_id) ON DELETE CASCADE,
                product_id INTEGER NOT NULL REFERENCES products(product_id),
                quantity INTEGER NOT NULL CHECK (quantity > 0),
                unit_price DECIMAL(10,2) NOT NULL,
                line_total DECIMAL(12,2) NOT NULL
            );
        """)
        print("✅ Created invoice_items table")
        
        # 6. Inventory movements table
        cursor.execute("""
            CREATE TABLE inventory_movements (
                movement_id SERIAL PRIMARY KEY,
                product_id INTEGER NOT NULL REFERENCES products(product_id),
                movement_type VARCHAR(10) NOT NULL CHECK (movement_type IN ('IN', 'OUT')),
                quantity INTEGER NOT NULL,
                movement_date TIMESTAMP DEFAULT NOW(),
                invoice_id INTEGER REFERENCES invoices(invoice_id),
                notes TEXT
            );
        """)
        print("✅ Created inventory_movements table")
        
        # Create indexes for better performance
        print("\n📈 Creating indexes...")
        indexes = [
            "CREATE INDEX idx_customers_email ON customers(email);",
            "CREATE INDEX idx_customers_city ON customers(city_id);",
            "CREATE INDEX idx_invoices_customer ON invoices(customer_id);",
            "CREATE INDEX idx_invoices_date ON invoices(invoice_date);",
            "CREATE INDEX idx_invoice_items_invoice ON invoice_items(invoice_id);",
            "CREATE INDEX idx_invoice_items_product ON invoice_items(product_id);",
            "CREATE INDEX idx_inventory_product ON inventory_movements(product_id);",
            "CREATE INDEX idx_inventory_date ON inventory_movements(movement_date);"
        ]
        
        for index_sql in indexes:
            cursor.execute(index_sql)
            print(f"✅ {index_sql}")
        
        # Commit all changes
        conn.commit()
        print("\n🎉 Database schema created successfully!")
        
        return True
        
    except Exception as e:
        conn.rollback()
        print(f"❌ Error creating schema: {e}")
        return False
        
    finally:
        cursor.close()
        conn.close()

# Execute the schema creation
print("Creating clean database schema...")
create_clean_schema()



# Add sample data for testing
import random
from datetime import datetime, timedelta

def insert_sample_data():
    """Insert realistic sample data"""
    
    conn = psycopg2.connect(**DB_PARAMS)
    cursor = conn.cursor()
    
    try:
        print("📊 Inserting sample data...")
        
        # 1. Insert cities
        cities = ['Riyadh', 'Jeddah', 'Dammam', 'Mecca', 'Medina', 'Taif', 'Buraidah', 'Tabuk']
        
        for city in cities:
            cursor.execute("""
                INSERT INTO cities (city_name) VALUES (%s)
                ON CONFLICT (city_name) DO NOTHING
            """, (city,))
        
        print(f"✅ Inserted {len(cities)} cities")
        
        # 2. Insert customers
        customers_data = [
            ('Ahmed Al-Rashid', 'ahmed.rashid@email.com', '+966501234567', 1),
            ('Fatima Al-Zahra', 'fatima.zahra@email.com', '+966502345678', 2),
            ('Mohammed Al-Qasimi', 'mohammed.qasimi@email.com', '+966503456789', 1),
            ('Aisha Al-Harbi', 'aisha.harbi@email.com', '+966504567890', 3),
            ('Omar Al-Mansouri', 'omar.mansouri@email.com', '+966505678901', 2),
            ('Nora Al-Fahad', 'nora.fahad@email.com', '+966506789012', 4),
            ('Khalid Al-Dosari', 'khalid.dosari@email.com', '+966507890123', 5),
            ('Sara Al-Mutairi', 'sara.mutairi@email.com', '+966508901234', 1),
            ('Abdullah Al-Otaibi', 'abdullah.otaibi@email.com', '+966509012345', 6),
            ('Maryam Al-Ghamdi', 'maryam.ghamdi@email.com', '+966500123456', 2)
        ]
        
        for customer in customers_data:
            cursor.execute("""
                INSERT INTO customers (name, email, phone, city_id) VALUES (%s, %s, %s, %s)
            """, customer)
        
        print(f"✅ Inserted {len(customers_data)} customers")
        
        # 3. Insert products
        products_data = [
            ('Laptop Pro 15"', 'Electronics', 4500.00, 3800.00, 25),
            ('Smartphone X12', 'Electronics', 2800.00, 2200.00, 40),
            ('Wireless Headphones', 'Electronics', 450.00, 300.00, 60),
            ('Office Chair Premium', 'Furniture', 850.00, 600.00, 15),
            ('Standing Desk', 'Furniture', 1200.00, 900.00, 12),
            ('Coffee Machine Deluxe', 'Appliances', 750.00, 500.00, 20),
            ('Smart Watch', 'Electronics', 1100.00, 800.00, 35),
            ('Bookshelf Oak', 'Furniture', 650.00, 450.00, 18),
            ('Tablet 11"', 'Electronics', 1800.00, 1400.00, 30),
            ('Gaming Keyboard', 'Electronics', 320.00, 200.00, 45)
        ]
        
        for product in products_data:
            cursor.execute("""
                INSERT INTO products (name, category, price, cost, stock) VALUES (%s, %s, %s, %s, %s)
            """, product)
        
        print(f"✅ Inserted {len(products_data)} products")
        
        # 4. Insert invoices with realistic dates (last 6 months)
        print("📋 Creating invoices...")
        
        invoice_count = 0
        for month_offset in range(6):  # Last 6 months
            for week in range(4):  # 4 weeks per month
                # Create 3-8 invoices per week
                invoices_this_week = random.randint(3, 8)
                
                for _ in range(invoices_this_week):
                    # Random date in this week
                    base_date = datetime.now() - timedelta(days=30 * month_offset + 7 * week)
                    invoice_date = base_date - timedelta(days=random.randint(0, 6))
                    
                    # Random customer
                    customer_id = random.randint(1, 10)
                    
                    # Create invoice (we'll calculate total after adding items)
                    cursor.execute("""
                        INSERT INTO invoices (customer_id, invoice_date, total_amount)
                        VALUES (%s, %s, %s) RETURNING invoice_id
                    """, (customer_id, invoice_date.date(), 0))
                    
                    invoice_id = cursor.fetchone()[0]
                    invoice_count += 1
                    
                    # Add 1-5 items to this invoice
                    items_count = random.randint(1, 5)
                    total_amount = 0
                    
                    for _ in range(items_count):
                        product_id = random.randint(1, 10)
                        quantity = random.randint(1, 3)
                        
                        # Get product price
                        cursor.execute("SELECT price FROM products WHERE product_id = %s", (product_id,))
                        unit_price = cursor.fetchone()[0]
                        line_total = float(unit_price) * quantity
                        total_amount += line_total
                        
                        # Insert invoice item
                        cursor.execute("""
                            INSERT INTO invoice_items (invoice_id, product_id, quantity, unit_price, line_total)
                            VALUES (%s, %s, %s, %s, %s)
                        """, (invoice_id, product_id, quantity, unit_price, line_total))
                        
                        # Record inventory movement
                        cursor.execute("""
                            INSERT INTO inventory_movements (product_id, movement_type, quantity, invoice_id, notes)
                            VALUES (%s, 'OUT', %s, %s, 'Sale')
                        """, (product_id, quantity, invoice_id))
                        
                        # Update product stock
                        cursor.execute("""
                            UPDATE products SET stock = stock - %s WHERE product_id = %s
                        """, (quantity, product_id))
                    
                    # Update invoice total
                    cursor.execute("""
                        UPDATE invoices SET total_amount = %s WHERE invoice_id = %s
                    """, (total_amount, invoice_id))
        
        print(f"✅ Created {invoice_count} invoices with items")
        
        # 5. Add some inventory restocking movements
        print("📦 Adding inventory restocks...")
        
        restock_count = 0
        for _ in range(15):  # 15 restock events
            product_id = random.randint(1, 10)
            quantity = random.randint(10, 50)
            restock_date = datetime.now() - timedelta(days=random.randint(1, 180))
            
            cursor.execute("""
                INSERT INTO inventory_movements (product_id, movement_type, quantity, movement_date, notes)
                VALUES (%s, 'IN', %s, %s, 'Restock')
            """, (product_id, quantity, restock_date))
            
            # Update product stock
            cursor.execute("""
                UPDATE products SET stock = stock + %s WHERE product_id = %s
            """, (quantity, product_id))
            
            restock_count += 1
        
        print(f"✅ Added {restock_count} restock movements")
        
        # Commit all changes
        conn.commit()
        print("\n🎉 Sample data inserted successfully!")
        
        # Show summary
        cursor.execute("SELECT COUNT(*) FROM cities")
        cities_count = cursor.fetchone()[0]
        
        cursor.execute("SELECT COUNT(*) FROM customers")
        customers_count = cursor.fetchone()[0]
        
        cursor.execute("SELECT COUNT(*) FROM products")
        products_count = cursor.fetchone()[0]
        
        cursor.execute("SELECT COUNT(*) FROM invoices")
        invoices_count = cursor.fetchone()[0]
        
        cursor.execute("SELECT COUNT(*) FROM invoice_items")
        items_count = cursor.fetchone()[0]
        
        cursor.execute("SELECT COUNT(*) FROM inventory_movements")
        movements_count = cursor.fetchone()[0]
        
        print(f"\n📊 Database Summary:")
        print(f"   Cities: {cities_count}")
        print(f"   Customers: {customers_count}")
        print(f"   Products: {products_count}")
        print(f"   Invoices: {invoices_count}")
        print(f"   Invoice Items: {items_count}")
        print(f"   Inventory Movements: {movements_count}")
        
        return True
        
    except Exception as e:
        conn.rollback()
        print(f"❌ Error inserting sample data: {e}")
        return False
        
    finally:
        cursor.close()
        conn.close()

# Execute sample data insertion
print("Populating database with sample data...")
insert_sample_data()


# Test the new database with sample queries
import pandas as pd

def run_test_queries():
    """Test various queries to ensure database works properly"""
    
    conn = psycopg2.connect(**DB_PARAMS)
    
    try:
        print("🧪 Testing database with sample queries...\n")
        
        # Test 1: Customer overview
        print("1. Customer Overview:")
        query1 = """
            SELECT c.name, ci.city_name, c.email, 
                   COUNT(i.invoice_id) as total_orders,
                   COALESCE(SUM(i.total_amount), 0) as total_spent
            FROM customers c
            LEFT JOIN cities ci ON c.city_id = ci.city_id
            LEFT JOIN invoices i ON c.customer_id = i.customer_id
            GROUP BY c.customer_id, c.name, ci.city_name, c.email
            ORDER BY total_spent DESC
            LIMIT 5;
        """
        df1 = pd.read_sql(query1, conn)
        print(df1.to_string(index=False))
        print()
        
        # Test 2: Monthly sales trends
        print("2. Monthly Sales Trends (Last 6 months):")
        query2 = """
            SELECT TO_CHAR(invoice_date, 'YYYY-MM') as month,
                   COUNT(*) as invoice_count,
                   ROUND(SUM(total_amount)::numeric, 2) as total_sales
            FROM invoices
            WHERE invoice_date >= CURRENT_DATE - INTERVAL '6 months'
            GROUP BY TO_CHAR(invoice_date, 'YYYY-MM')
            ORDER BY month;
        """
        df2 = pd.read_sql(query2, conn)
        print(df2.to_string(index=False))
        print()
        
        # Test 3: Product performance
        print("3. Product Performance:")
        query3 = """
            SELECT p.name, p.category,
                   SUM(ii.quantity) as units_sold,
                   ROUND(SUM(ii.line_total)::numeric, 2) as revenue,
                   p.stock as current_stock
            FROM products p
            LEFT JOIN invoice_items ii ON p.product_id = ii.product_id
            GROUP BY p.product_id, p.name, p.category, p.stock
            ORDER BY revenue DESC NULLS LAST;
        """
        df3 = pd.read_sql(query3, conn)
        print(df3.to_string(index=False))
        print()
        
        # Test 4: City-wise sales
        print("4. Sales by City:")
        query4 = """
            SELECT ci.city_name,
                   COUNT(DISTINCT c.customer_id) as customers,
                   COUNT(i.invoice_id) as total_orders,
                   ROUND(COALESCE(SUM(i.total_amount), 0)::numeric, 2) as total_sales
            FROM cities ci
            LEFT JOIN customers c ON ci.city_id = c.city_id
            LEFT JOIN invoices i ON c.customer_id = i.customer_id
            GROUP BY ci.city_id, ci.city_name
            ORDER BY total_sales DESC;
        """
        df4 = pd.read_sql(query4, conn)
        print(df4.to_string(index=False))
        print()
        
        # Test 5: Inventory status
        print("5. Current Inventory Status:")
        query5 = """
            SELECT name, category, stock,
                   price,
                   ROUND((price * stock)::numeric, 2) as stock_value
            FROM products
            ORDER BY stock_value DESC;
        """
        df5 = pd.read_sql(query5, conn)
        print(df5.to_string(index=False))
        print()
        
        # Test 6: Recent transactions
        print("6. Recent Transactions (Last 10):")
        query6 = """
            SELECT i.invoice_id,
                   c.name as customer,
                   i.invoice_date,
                   i.total_amount,
                   i.status
            FROM invoices i
            JOIN customers c ON i.customer_id = c.customer_id
            ORDER BY i.created_at DESC
            LIMIT 10;
        """
        df6 = pd.read_sql(query6, conn)
        print(df6.to_string(index=False))
        
        print("\n✅ All test queries executed successfully!")
        print("🎉 Your database is ready for use with your Flask app!")
        
        return True
        
    except Exception as e:
        print(f"❌ Test query failed: {e}")
        return False
        
    finally:
        conn.close()

# Run the tests
run_test_queries()


# Bulk insert 5000 invoices and 500 customers - Optimized version
import random
from datetime import datetime, timedelta
import time

def bulk_insert_large_dataset():
    """Insert 500 customers and 5000 invoices efficiently"""
    
    conn = psycopg2.connect(**DB_PARAMS)
    cursor = conn.cursor()
    
    try:
        start_time = time.time()
        print("🚀 Starting bulk insert of large dataset...")
        
        # Generate 500 customers
        print("👥 Generating 500 customers...")
        
        # Arabic names for variety
        first_names = ['Ahmed', 'Mohammed', 'Omar', 'Ali', 'Hassan', 'Khalid', 'Abdulrahman', 'Abdullah', 'Salem', 'Faisal',
                      'Fatima', 'Aisha', 'Maryam', 'Nora', 'Sara', 'Layla', 'Huda', 'Reem', 'Zahra', 'Amina']
        
        last_names = ['Al-Rashid', 'Al-Zahra', 'Al-Qasimi', 'Al-Harbi', 'Al-Mansouri', 'Al-Fahad', 'Al-Dosari', 
                     'Al-Mutairi', 'Al-Otaibi', 'Al-Ghamdi', 'Al-Shehri', 'Al-Malki', 'Al-Qahtani', 'Al-Subai']
        
        # Prepare bulk customer data
        customer_data = []
        for i in range(490):  # 490 new + 10 existing = 500 total
            first = random.choice(first_names)
            last = random.choice(last_names)
            name = f"{first} {last}"
            email = f"{first.lower()}.{last.lower().replace('al-', '')}{i}@email.com"
            phone = f"+96650{random.randint(1000000, 9999999)}"
            city_id = random.randint(1, 8)
            
            customer_data.append((name, email, phone, city_id))
        
        # Bulk insert customers
        cursor.executemany("""
            INSERT INTO customers (name, email, phone, city_id) VALUES (%s, %s, %s, %s)
        """, customer_data)
        
        print(f"✅ Inserted {len(customer_data)} new customers")
        
        # Generate 5000 invoices efficiently
        print("📄 Generating 5000 invoices...")
        
        # Get date range for last 12 months
        end_date = datetime.now()
        start_date = end_date - timedelta(days=365)
        
        invoice_data = []
        invoice_items_data = []
        inventory_movements_data = []
        
        invoice_id_counter = 141  # Start after existing invoices
        
        for i in range(5000):
            # Random date in the last year
            random_days = random.randint(0, 365)
            invoice_date = start_date + timedelta(days=random_days)
            
            # Random customer (1-500, since we now have 500 total)
            customer_id = random.randint(1, 500)
            
            # Calculate invoice total
            items_count = random.randint(1, 6)
            total_amount = 0
            
            # Generate items for this invoice
            for _ in range(items_count):
                product_id = random.randint(1, 10)
                quantity = random.randint(1, 4)
                
                # Product prices (hardcoded for speed)
                product_prices = {1: 4500.00, 2: 2800.00, 3: 450.00, 4: 850.00, 5: 1200.00,
                                6: 750.00, 7: 1100.00, 8: 650.00, 9: 1800.00, 10: 320.00}
                
                unit_price = product_prices[product_id]
                line_total = unit_price * quantity
                total_amount += line_total
                
                # Add to bulk data
                invoice_items_data.append((invoice_id_counter, product_id, quantity, unit_price, line_total))
                inventory_movements_data.append((product_id, 'OUT', quantity, invoice_date, invoice_id_counter, 'Sale'))
            
            # Add invoice to bulk data
            invoice_data.append((customer_id, invoice_date.date(), total_amount, 'completed'))
            invoice_id_counter += 1
            
            # Progress indicator
            if (i + 1) % 1000 == 0:
                print(f"  📊 Generated {i + 1}/5000 invoices...")
        
        print("💾 Bulk inserting invoices...")
        cursor.executemany("""
            INSERT INTO invoices (customer_id, invoice_date, total_amount, status) 
            VALUES (%s, %s, %s, %s)
        """, invoice_data)
        
        print("💾 Bulk inserting invoice items...")
        cursor.executemany("""
            INSERT INTO invoice_items (invoice_id, product_id, quantity, unit_price, line_total)
            VALUES (%s, %s, %s, %s, %s)
        """, invoice_items_data)
        
        print("💾 Bulk inserting inventory movements...")
        cursor.executemany("""
            INSERT INTO inventory_movements (product_id, movement_type, quantity, movement_date, invoice_id, notes)
            VALUES (%s, %s, %s, %s, %s, %s)
        """, inventory_movements_data)
        
        # Update product stock efficiently (batch update)
        print("📦 Updating product stock...")
        for product_id in range(1, 11):
            cursor.execute("""
                UPDATE products 
                SET stock = stock - (
                    SELECT COALESCE(SUM(quantity), 0) 
                    FROM inventory_movements 
                    WHERE product_id = %s AND movement_type = 'OUT' AND invoice_id >= 141
                )
                WHERE product_id = %s
            """, (product_id, product_id))
        
        # Add some bulk restocking
        print("📦 Adding bulk restocking...")
        restock_data = []
        for _ in range(50):
            product_id = random.randint(1, 10)
            quantity = random.randint(50, 200)
            restock_date = end_date - timedelta(days=random.randint(1, 30))
            restock_data.append((product_id, 'IN', quantity, restock_date, None, 'Bulk restock'))
        
        cursor.executemany("""
            INSERT INTO inventory_movements (product_id, movement_type, quantity, movement_date, invoice_id, notes)
            VALUES (%s, %s, %s, %s, %s, %s)
        """, restock_data)
        
        # Update stock for restocking
        for product_id in range(1, 11):
            cursor.execute("""
                UPDATE products 
                SET stock = stock + (
                    SELECT COALESCE(SUM(quantity), 0) 
                    FROM inventory_movements 
                    WHERE product_id = %s AND movement_type = 'IN' AND notes = 'Bulk restock'
                )
                WHERE product_id = %s
            """, (product_id, product_id))
        
        # Commit all changes
        conn.commit()
        
        elapsed_time = time.time() - start_time
        print(f"\n🎉 Bulk insert completed in {elapsed_time:.2f} seconds!")
        
        # Show final statistics
        cursor.execute("SELECT COUNT(*) FROM customers")
        customers_count = cursor.fetchone()[0]
        
        cursor.execute("SELECT COUNT(*) FROM invoices")
        invoices_count = cursor.fetchone()[0]
        
        cursor.execute("SELECT COUNT(*) FROM invoice_items")
        items_count = cursor.fetchone()[0]
        
        cursor.execute("SELECT COUNT(*) FROM inventory_movements")
        movements_count = cursor.fetchone()[0]
        
        cursor.execute("SELECT ROUND(SUM(total_amount)::numeric, 2) FROM invoices")
        total_revenue = cursor.fetchone()[0]
        
        print(f"\n📊 Final Database Statistics:")
        print(f"   Total Customers: {customers_count}")
        print(f"   Total Invoices: {invoices_count}")
        print(f"   Total Invoice Items: {items_count}")
        print(f"   Total Inventory Movements: {movements_count}")
        print(f"   Total Revenue: {total_revenue:,} SR")
        print(f"   Average Invoice: {float(total_revenue)/invoices_count:.2f} SR")
        
        return True
        
    except Exception as e:
        conn.rollback()
        print(f"❌ Bulk insert failed: {e}")
        return False
        
    finally:
        cursor.close()
        conn.close()

# Execute the bulk insert
print("Starting large dataset creation...")
bulk_insert_large_dataset()


# Check what was inserted and fix any issues
def check_insert_status():
    """Check what data was successfully inserted"""
    
    conn = psycopg2.connect(**DB_PARAMS)
    cursor = conn.cursor()
    
    try:
        print("Checking current database status...")
        
        # Check customers
        cursor.execute("SELECT COUNT(*) FROM customers")
        customers_count = cursor.fetchone()[0]
        
        # Check invoices
        cursor.execute("SELECT COUNT(*) FROM invoices")
        invoices_count = cursor.fetchone()[0]
        
        # Check invoice items
        cursor.execute("SELECT COUNT(*) FROM invoice_items")
        items_count = cursor.fetchone()[0]
        
        # Check inventory movements
        cursor.execute("SELECT COUNT(*) FROM inventory_movements")
        movements_count = cursor.fetchone()[0]
        
        print(f"Current counts:")
        print(f"  Customers: {customers_count}")
        print(f"  Invoices: {invoices_count}")
        print(f"  Invoice Items: {items_count}")
        print(f"  Inventory Movements: {movements_count}")
        
        # Check for orphaned invoices (invoices without items)
        cursor.execute("""
            SELECT COUNT(*) FROM invoices i 
            WHERE NOT EXISTS (
                SELECT 1 FROM invoice_items ii WHERE ii.invoice_id = i.invoice_id
            )
        """)
        orphaned_invoices = cursor.fetchone()[0]
        
        print(f"  Orphaned invoices (without items): {orphaned_invoices}")
        
        return {
            'customers': customers_count,
            'invoices': invoices_count, 
            'items': items_count,
            'movements': movements_count,
            'orphaned': orphaned_invoices
        }
        
    except Exception as e:
        print(f"Error checking status: {e}")
        return None
        
    finally:
        cursor.close()
        conn.close()

def cleanup_orphaned_data():
    """Clean up any orphaned invoices and fix the database"""
    
    conn = psycopg2.connect(**DB_PARAMS)
    cursor = conn.cursor()
    
    try:
        print("\nCleaning up orphaned data...")
        
        # Delete invoices that have no items (these are incomplete from the failed insert)
        cursor.execute("""
            DELETE FROM invoices 
            WHERE invoice_id NOT IN (
                SELECT DISTINCT invoice_id FROM invoice_items
            )
        """)
        deleted_invoices = cursor.rowcount
        
        # Delete inventory movements for deleted invoices
        cursor.execute("""
            DELETE FROM inventory_movements 
            WHERE invoice_id IS NOT NULL 
            AND invoice_id NOT IN (
                SELECT invoice_id FROM invoices
            )
        """)
        deleted_movements = cursor.rowcount
        
        conn.commit()
        
        print(f"Deleted {deleted_invoices} orphaned invoices")
        print(f"Deleted {deleted_movements} orphaned inventory movements")
        
        return True
        
    except Exception as e:
        conn.rollback()
        print(f"Error during cleanup: {e}")
        return False
        
    finally:
        cursor.close()
        conn.close()

# Run the checks
print("Checking insertion status...")
status = check_insert_status()

if status and status['orphaned'] > 0:
    cleanup_orphaned_data()
    print("\nRe-checking after cleanup...")
    check_insert_status()
else:
    print("\nNo cleanup needed - data looks consistent")
    


# Ultra-fast bulk insert using SQL generation
import random
from datetime import datetime, timedelta
import time

def generate_fast_bulk_data():
    """Generate 5000 invoices using optimized SQL generation"""
    
    start_time = time.time()
    print("Generating 500 customers and 5000 invoices with optimized SQL...")
    
    conn = psycopg2.connect(**DB_PARAMS)
    cursor = conn.cursor()
    
    try:
        # Step 1: Generate 490 new customers with single SQL statement
        print("1. Generating customers...")
        
        first_names = ['Ahmed', 'Mohammed', 'Omar', 'Ali', 'Hassan', 'Khalid', 'Abdulrahman', 'Abdullah', 'Salem', 'Faisal',
                      'Fatima', 'Aisha', 'Maryam', 'Nora', 'Sara', 'Layla', 'Huda', 'Reem', 'Zahra', 'Amina']
        last_names = ['Al-Rashid', 'Al-Zahra', 'Al-Qasimi', 'Al-Harbi', 'Al-Mansouri', 'Al-Fahad', 'Al-Dosari', 
                     'Al-Mutairi', 'Al-Otaibi', 'Al-Ghamdi', 'Al-Shehri', 'Al-Malki', 'Al-Qahtani', 'Al-Subai']
        
        # Build single INSERT statement for customers
        customer_values = []
        for i in range(490):
            first = random.choice(first_names)
            last = random.choice(last_names)
            name = f"{first} {last}"
            email = f"{first.lower()}.{last.lower().replace('al-', '')}{i}@email.com"
            phone = f"+96650{random.randint(1000000, 9999999)}"
            city_id = random.randint(1, 8)
            customer_values.append(f"('{name}', '{email}', '{phone}', {city_id})")
        
        customer_sql = f"""
            INSERT INTO customers (name, email, phone, city_id) 
            VALUES {','.join(customer_values)}
        """
        
        cursor.execute(customer_sql)
        print("   Inserted 490 customers")
        
        # Step 2: Generate all invoice data in memory first
        print("2. Generating invoice data...")
        
        end_date = datetime.now()
        start_date = end_date - timedelta(days=365)
        
        # Product prices for quick lookup
        prices = [4500.00, 2800.00, 450.00, 850.00, 1200.00, 750.00, 1100.00, 650.00, 1800.00, 320.00]
        
        invoice_values = []
        item_values = []
        movement_values = []
        
        current_invoice_id = 141  # Start after existing
        
        for i in range(5000):
            # Random date and customer
            random_days = random.randint(0, 365)
            invoice_date = (start_date + timedelta(days=random_days)).strftime('%Y-%m-%d')
            customer_id = random.randint(1, 500)
            
            # Generate items for this invoice
            items_count = random.randint(1, 5)
            total_amount = 0
            
            for _ in range(items_count):
                product_id = random.randint(1, 10)
                quantity = random.randint(1, 3)
                unit_price = prices[product_id - 1]
                line_total = unit_price * quantity
                total_amount += line_total
                
                # Add to bulk arrays
                item_values.append(f"({current_invoice_id}, {product_id}, {quantity}, {unit_price}, {line_total})")
                movement_values.append(f"({product_id}, 'OUT', {quantity}, '{invoice_date}', {current_invoice_id}, 'Sale')")
            
            invoice_values.append(f"({customer_id}, '{invoice_date}', {total_amount}, 'completed')")
            current_invoice_id += 1
            
            if (i + 1) % 1000 == 0:
                print(f"   Generated {i + 1}/5000 invoices...")
        
        # Step 3: Execute bulk inserts with chunking to avoid memory limits
        print("3. Inserting invoices...")
        
        # Insert invoices in chunks of 1000
        chunk_size = 1000
        for i in range(0, len(invoice_values), chunk_size):
            chunk = invoice_values[i:i + chunk_size]
            chunk_sql = f"""
                INSERT INTO invoices (customer_id, invoice_date, total_amount, status) 
                VALUES {','.join(chunk)}
            """
            cursor.execute(chunk_sql)
            print(f"   Inserted invoices {i + 1} to {min(i + chunk_size, len(invoice_values))}")
        
        print("4. Inserting invoice items...")
        
        # Insert items in chunks
        for i in range(0, len(item_values), chunk_size * 3):  # Items chunk is larger
            chunk = item_values[i:i + chunk_size * 3]
            chunk_sql = f"""
                INSERT INTO invoice_items (invoice_id, product_id, quantity, unit_price, line_total)
                VALUES {','.join(chunk)}
            """
            cursor.execute(chunk_sql)
            print(f"   Inserted items {i + 1} to {min(i + chunk_size * 3, len(item_values))}")
        
        print("5. Inserting inventory movements...")
        
        # Insert movements in chunks
        for i in range(0, len(movement_values), chunk_size * 3):
            chunk = movement_values[i:i + chunk_size * 3]
            chunk_sql = f"""
                INSERT INTO inventory_movements (product_id, movement_type, quantity, movement_date, invoice_id, notes)
                VALUES {','.join(chunk)}
            """
            cursor.execute(chunk_sql)
            print(f"   Inserted movements {i + 1} to {min(i + chunk_size * 3, len(movement_values))}")
        
        # Step 4: Update stock levels efficiently
        print("6. Updating product stock...")
        for product_id in range(1, 11):
            cursor.execute(f"""
                UPDATE products 
                SET stock = stock - (
                    SELECT COALESCE(SUM(quantity), 0) 
                    FROM inventory_movements 
                    WHERE product_id = {product_id} AND movement_type = 'OUT' AND invoice_id >= 141
                )
                WHERE product_id = {product_id}
            """)
        
        # Step 5: Add restocking
        print("7. Adding restocking...")
        restock_values = []
        for _ in range(50):
            product_id = random.randint(1, 10)
            quantity = random.randint(100, 500)
            restock_date = (end_date - timedelta(days=random.randint(1, 30))).strftime('%Y-%m-%d')
            restock_values.append(f"({product_id}, 'IN', {quantity}, '{restock_date}', NULL, 'Bulk restock')")
        
        restock_sql = f"""
            INSERT INTO inventory_movements (product_id, movement_type, quantity, movement_date, invoice_id, notes)
            VALUES {','.join(restock_values)}
        """
        cursor.execute(restock_sql)
        
        # Update stock for restocking
        for product_id in range(1, 11):
            cursor.execute(f"""
                UPDATE products 
                SET stock = stock + (
                    SELECT COALESCE(SUM(quantity), 0) 
                    FROM inventory_movements 
                    WHERE product_id = {product_id} AND movement_type = 'IN' AND notes = 'Bulk restock'
                )
                WHERE product_id = {product_id}
            """)
        
        # Commit everything
        conn.commit()
        
        elapsed_time = time.time() - start_time
        print(f"\nCompleted in {elapsed_time:.2f} seconds!")
        
        # Final stats
        cursor.execute("SELECT COUNT(*) FROM customers")
        customers_count = cursor.fetchone()[0]
        
        cursor.execute("SELECT COUNT(*) FROM invoices")
        invoices_count = cursor.fetchone()[0]
        
        cursor.execute("SELECT COUNT(*) FROM invoice_items")
        items_count = cursor.fetchone()[0]
        
        cursor.execute("SELECT ROUND(SUM(total_amount)::numeric, 2) FROM invoices")
        total_revenue = cursor.fetchone()[0]
        
        print(f"\nFinal Statistics:")
        print(f"  Customers: {customers_count}")
        print(f"  Invoices: {invoices_count}")
        print(f"  Invoice Items: {items_count}")
        print(f"  Total Revenue: {total_revenue:,} SR")
        
        return True
        
    except Exception as e:
        conn.rollback()
        print(f"Error: {e}")
        return False
        
    finally:
        cursor.close()
        conn.close()

# Execute the fast bulk insert
generate_fast_bulk_data()


# Fix the customer ID issue and retry
import random
from datetime import datetime, timedelta
import time

def get_valid_customer_ids():
    """Get the actual range of customer IDs"""
    conn = psycopg2.connect(**DB_PARAMS)
    cursor = conn.cursor()
    
    try:
        cursor.execute("SELECT MIN(customer_id), MAX(customer_id), COUNT(*) FROM customers")
        min_id, max_id, count = cursor.fetchone()
        
        cursor.execute("SELECT customer_id FROM customers ORDER BY customer_id")
        valid_ids = [row[0] for row in cursor.fetchall()]
        
        print(f"Customer ID range: {min_id} to {max_id}, Total: {count}")
        print(f"Valid customer IDs: {valid_ids[:10]}{'...' if len(valid_ids) > 10 else ''}")
        
        return valid_ids
        
    finally:
        cursor.close()
        conn.close()

def retry_bulk_insert():
    """Retry the bulk insert with correct customer IDs"""
    
    start_time = time.time()
    print("Retrying bulk insert with correct customer IDs...")
    
    # Get valid customer IDs
    valid_customer_ids = get_valid_customer_ids()
    
    conn = psycopg2.connect(**DB_PARAMS)
    cursor = conn.cursor()
    
    try:
        print("Generating invoice data...")
        
        end_date = datetime.now()
        start_date = end_date - timedelta(days=365)
        
        # Product prices for quick lookup
        prices = [4500.00, 2800.00, 450.00, 850.00, 1200.00, 750.00, 1100.00, 650.00, 1800.00, 320.00]
        
        invoice_values = []
        item_values = []
        movement_values = []
        
        current_invoice_id = 141  # Start after existing
        
        for i in range(5000):
            # Random date and customer (from valid IDs)
            random_days = random.randint(0, 365)
            invoice_date = (start_date + timedelta(days=random_days)).strftime('%Y-%m-%d')
            customer_id = random.choice(valid_customer_ids)  # Use actual valid IDs
            
            # Generate items for this invoice
            items_count = random.randint(1, 5)
            total_amount = 0
            
            for _ in range(items_count):
                product_id = random.randint(1, 10)
                quantity = random.randint(1, 3)
                unit_price = prices[product_id - 1]
                line_total = unit_price * quantity
                total_amount += line_total
                
                # Add to bulk arrays
                item_values.append(f"({current_invoice_id}, {product_id}, {quantity}, {unit_price}, {line_total})")
                movement_values.append(f"({product_id}, 'OUT', {quantity}, '{invoice_date}', {current_invoice_id}, 'Sale')")
            
            invoice_values.append(f"({customer_id}, '{invoice_date}', {total_amount}, 'completed')")
            current_invoice_id += 1
            
            if (i + 1) % 1000 == 0:
                print(f"   Generated {i + 1}/5000 invoices...")
        
        # Insert invoices in chunks
        print("Inserting invoices...")
        chunk_size = 1000
        for i in range(0, len(invoice_values), chunk_size):
            chunk = invoice_values[i:i + chunk_size]
            chunk_sql = f"""
                INSERT INTO invoices (customer_id, invoice_date, total_amount, status) 
                VALUES {','.join(chunk)}
            """
            cursor.execute(chunk_sql)
            print(f"   Inserted invoices {i + 1} to {min(i + chunk_size, len(invoice_values))}")
        
        print("Inserting invoice items...")
        # Insert items in chunks
        for i in range(0, len(item_values), chunk_size * 3):
            chunk = item_values[i:i + chunk_size * 3]
            chunk_sql = f"""
                INSERT INTO invoice_items (invoice_id, product_id, quantity, unit_price, line_total)
                VALUES {','.join(chunk)}
            """
            cursor.execute(chunk_sql)
            print(f"   Inserted items {i + 1} to {min(i + chunk_size * 3, len(item_values))}")
        
        print("Inserting inventory movements...")
        # Insert movements in chunks
        for i in range(0, len(movement_values), chunk_size * 3):
            chunk = movement_values[i:i + chunk_size * 3]
            chunk_sql = f"""
                INSERT INTO inventory_movements (product_id, movement_type, quantity, movement_date, invoice_id, notes)
                VALUES {','.join(chunk)}
            """
            cursor.execute(chunk_sql)
            print(f"   Inserted movements {i + 1} to {min(i + chunk_size * 3, len(movement_values))}")
        
        # Update stock levels
        print("Updating product stock...")
        for product_id in range(1, 11):
            cursor.execute(f"""
                UPDATE products 
                SET stock = stock - (
                    SELECT COALESCE(SUM(quantity), 0) 
                    FROM inventory_movements 
                    WHERE product_id = {product_id} AND movement_type = 'OUT' AND invoice_id >= 141
                )
                WHERE product_id = {product_id}
            """)
        
        # Add restocking
        print("Adding restocking...")
        restock_values = []
        for _ in range(50):
            product_id = random.randint(1, 10)
            quantity = random.randint(100, 500)
            restock_date = (end_date - timedelta(days=random.randint(1, 30))).strftime('%Y-%m-%d')
            restock_values.append(f"({product_id}, 'IN', {quantity}, '{restock_date}', NULL, 'Bulk restock')")
        
        restock_sql = f"""
            INSERT INTO inventory_movements (product_id, movement_type, quantity, movement_date, invoice_id, notes)
            VALUES {','.join(restock_values)}
        """
        cursor.execute(restock_sql)
        
        # Update stock for restocking
        for product_id in range(1, 11):
            cursor.execute(f"""
                UPDATE products 
                SET stock = stock + (
                    SELECT COALESCE(SUM(quantity), 0) 
                    FROM inventory_movements 
                    WHERE product_id = {product_id} AND movement_type = 'IN' AND notes = 'Bulk restock'
                )
                WHERE product_id = {product_id}
            """)
        
        # Commit everything
        conn.commit()
        
        elapsed_time = time.time() - start_time
        print(f"\nCompleted in {elapsed_time:.2f} seconds!")
        
        # Final stats
        cursor.execute("SELECT COUNT(*) FROM customers")
        customers_count = cursor.fetchone()[0]
        
        cursor.execute("SELECT COUNT(*) FROM invoices")
        invoices_count = cursor.fetchone()[0]
        
        cursor.execute("SELECT COUNT(*) FROM invoice_items")
        items_count = cursor.fetchone()[0]
        
        cursor.execute("SELECT ROUND(SUM(total_amount)::numeric, 2) FROM invoices")
        total_revenue = cursor.fetchone()[0]
        
        print(f"\nFinal Statistics:")
        print(f"  Customers: {customers_count}")
        print(f"  Invoices: {invoices_count}")
        print(f"  Invoice Items: {items_count}")
        print(f"  Total Revenue: {total_revenue:,} SR")
        
        return True
        
    except Exception as e:
        conn.rollback()
        print(f"Error: {e}")
        return False
        
    finally:
        cursor.close()
        conn.close()

# Execute the fixed version
retry_bulk_insert()


# Fix the invoice ID issue by getting actual IDs
def check_and_fix_invoice_ids():
    """Check what invoice IDs were created and fix the references"""
    
    conn = psycopg2.connect(**DB_PARAMS)
    cursor = conn.cursor()
    
    try:
        # Check current invoice IDs
        cursor.execute("SELECT MIN(invoice_id), MAX(invoice_id), COUNT(*) FROM invoices")
        min_id, max_id, count = cursor.fetchone()
        print(f"Current invoices: {count} records, IDs from {min_id} to {max_id}")
        
        # Get the new invoice IDs that were just created
        cursor.execute("SELECT invoice_id FROM invoices WHERE invoice_id > 140 ORDER BY invoice_id LIMIT 10")
        new_ids = [row[0] for row in cursor.fetchall()]
        print(f"First 10 new invoice IDs: {new_ids}")
        
        # Check if we need to delete incomplete data first
        cursor.execute("SELECT COUNT(*) FROM invoice_items")
        items_count = cursor.fetchone()[0]
        print(f"Current invoice items: {items_count}")
        
        if items_count > 422:  # We had 422 originally
            print("Cleaning up incomplete invoice items...")
            cursor.execute("DELETE FROM invoice_items WHERE invoice_id > 140")
            deleted_items = cursor.rowcount
            print(f"Deleted {deleted_items} incomplete items")
        
        cursor.execute("SELECT COUNT(*) FROM inventory_movements WHERE invoice_id > 140")
        movements_count = cursor.fetchone()[0]
        if movements_count > 0:
            print("Cleaning up incomplete inventory movements...")
            cursor.execute("DELETE FROM inventory_movements WHERE invoice_id > 140")
            deleted_movements = cursor.rowcount
            print(f"Deleted {deleted_movements} incomplete movements")
        
        conn.commit()
        
        # Now get the correct invoice ID range
        cursor.execute("SELECT MIN(invoice_id), MAX(invoice_id) FROM invoices WHERE invoice_id > 140")
        result = cursor.fetchone()
        if result[0] is not None:
            min_new_id, max_new_id = result
            print(f"Valid new invoice ID range: {min_new_id} to {max_new_id}")
            return min_new_id, max_new_id
        else:
            print("No new invoices found")
            return None, None
            
    except Exception as e:
        print(f"Error: {e}")
        return None, None
        
    finally:
        cursor.close()
        conn.close()

def create_items_for_existing_invoices():
    """Create invoice items for the invoices that were successfully inserted"""
    
    min_id, max_id = check_and_fix_invoice_ids()
    
    if min_id is None:
        print("No valid invoices to process")
        return False
    
    conn = psycopg2.connect(**DB_PARAMS)
    cursor = conn.cursor()
    
    try:
        print(f"Creating items for invoices {min_id} to {max_id}...")
        
        # Get all the invoice IDs and their customers
        cursor.execute("""
            SELECT invoice_id, customer_id, invoice_date 
            FROM invoices 
            WHERE invoice_id BETWEEN %s AND %s 
            ORDER BY invoice_id
        """, (min_id, max_id))
        
        invoices = cursor.fetchall()
        print(f"Processing {len(invoices)} invoices...")
        
        # Product prices
        prices = [4500.00, 2800.00, 450.00, 850.00, 1200.00, 750.00, 1100.00, 650.00, 1800.00, 320.00]
        
        item_values = []
        movement_values = []
        
        for invoice_id, customer_id, invoice_date in invoices:
            # Generate 1-5 items per invoice
            items_count = random.randint(1, 5)
            invoice_total = 0
            
            for _ in range(items_count):
                product_id = random.randint(1, 10)
                quantity = random.randint(1, 3)
                unit_price = prices[product_id - 1]
                line_total = unit_price * quantity
                invoice_total += line_total
                
                item_values.append(f"({invoice_id}, {product_id}, {quantity}, {unit_price}, {line_total})")
                movement_values.append(f"({product_id}, 'OUT', {quantity}, '{invoice_date}', {invoice_id}, 'Sale')")
            
            # Update the invoice total
            cursor.execute("UPDATE invoices SET total_amount = %s WHERE invoice_id = %s", 
                          (invoice_total, invoice_id))
        
        print(f"Generated {len(item_values)} items and {len(movement_values)} movements")
        
        # Insert items in chunks
        chunk_size = 3000
        for i in range(0, len(item_values), chunk_size):
            chunk = item_values[i:i + chunk_size]
            chunk_sql = f"""
                INSERT INTO invoice_items (invoice_id, product_id, quantity, unit_price, line_total)
                VALUES {','.join(chunk)}
            """
            cursor.execute(chunk_sql)
            print(f"   Inserted items {i + 1} to {min(i + chunk_size, len(item_values))}")
        
        # Insert movements in chunks
        for i in range(0, len(movement_values), chunk_size):
            chunk = movement_values[i:i + chunk_size]
            chunk_sql = f"""
                INSERT INTO inventory_movements (product_id, movement_type, quantity, movement_date, invoice_id, notes)
                VALUES {','.join(chunk)}
            """
            cursor.execute(chunk_sql)
            print(f"   Inserted movements {i + 1} to {min(i + chunk_size, len(movement_values))}")
        
        # Update product stock
        print("Updating product stock...")
        for product_id in range(1, 11):
            cursor.execute(f"""
                UPDATE products 
                SET stock = stock - (
                    SELECT COALESCE(SUM(quantity), 0) 
                    FROM inventory_movements 
                    WHERE product_id = {product_id} AND movement_type = 'OUT' AND invoice_id >= {min_id}
                )
                WHERE product_id = {product_id}
            """)
        
        conn.commit()
        
        # Final stats
        cursor.execute("SELECT COUNT(*) FROM invoices")
        invoices_count = cursor.fetchone()[0]
        
        cursor.execute("SELECT COUNT(*) FROM invoice_items")
        items_count = cursor.fetchone()[0]
        
        cursor.execute("SELECT ROUND(SUM(total_amount)::numeric, 2) FROM invoices")
        total_revenue = cursor.fetchone()[0]
        
        print(f"\nSuccess! Final Statistics:")
        print(f"  Total Invoices: {invoices_count}")
        print(f"  Total Invoice Items: {items_count}")
        print(f"  Total Revenue: {total_revenue:,} SR")
        
        return True
        
    except Exception as e:
        conn.rollback()
        print(f"Error: {e}")
        return False
        
    finally:
        cursor.close()
        conn.close()

# Execute the fix
create_items_for_existing_invoices()


# Complete fresh database with 5000 customers and invoices
import random
from datetime import datetime, timedelta
import time

def create_complete_fresh_database():
    """Delete everything and create fresh database with 5000 customers and invoices"""
    
    conn = psycopg2.connect(**DB_PARAMS)
    cursor = conn.cursor()
    
    try:
        start_time = time.time()
        print("Creating complete fresh database...")
        
        # Step 1: Delete all existing data
        print("1. Clearing existing data...")
        cursor.execute("DELETE FROM inventory_movements")
        cursor.execute("DELETE FROM invoice_items")
        cursor.execute("DELETE FROM invoices")
        cursor.execute("DELETE FROM products")
        cursor.execute("DELETE FROM customers")
        cursor.execute("DELETE FROM cities")
        
        # Reset sequences
        cursor.execute("ALTER SEQUENCE cities_city_id_seq RESTART WITH 1")
        cursor.execute("ALTER SEQUENCE customers_customer_id_seq RESTART WITH 1")
        cursor.execute("ALTER SEQUENCE products_product_id_seq RESTART WITH 1")
        cursor.execute("ALTER SEQUENCE invoices_invoice_id_seq RESTART WITH 1")
        cursor.execute("ALTER SEQUENCE invoice_items_item_id_seq RESTART WITH 1")
        cursor.execute("ALTER SEQUENCE inventory_movements_movement_id_seq RESTART WITH 1")
        
        print("   Cleared all existing data")
        
        # Step 2: Insert cities
        print("2. Creating cities...")
        cities = ['Riyadh', 'Jeddah', 'Dammam', 'Mecca', 'Medina', 'Taif', 'Buraidah', 'Tabuk', 'Abha', 'Hail']
        city_values = [f"('{city}')" for city in cities]
        city_sql = f"INSERT INTO cities (city_name) VALUES {','.join(city_values)}"
        cursor.execute(city_sql)
        print(f"   Inserted {len(cities)} cities")
        
        # Step 3: Create 50 products
        print("3. Creating products...")
        products_data = [
            ('Laptop Pro 15"', 'Electronics', 4500.00, 3800.00, 1000),
            ('Smartphone X12', 'Electronics', 2800.00, 2200.00, 1500),
            ('Wireless Headphones', 'Electronics', 450.00, 300.00, 800),
            ('Office Chair Premium', 'Furniture', 850.00, 600.00, 200),
            ('Standing Desk', 'Furniture', 1200.00, 900.00, 150),
            ('Coffee Machine Deluxe', 'Appliances', 750.00, 500.00, 300),
            ('Smart Watch', 'Electronics', 1100.00, 800.00, 400),
            ('Bookshelf Oak', 'Furniture', 650.00, 450.00, 100),
            ('Tablet 11"', 'Electronics', 1800.00, 1400.00, 500),
            ('Gaming Keyboard', 'Electronics', 320.00, 200.00, 600),
            ('Monitor 27" 4K', 'Electronics', 1500.00, 1100.00, 300),
            ('Wireless Mouse', 'Electronics', 150.00, 80.00, 700),
            ('Desk Lamp LED', 'Furniture', 180.00, 120.00, 250),
            ('External SSD 1TB', 'Electronics', 400.00, 280.00, 400),
            ('Webcam HD', 'Electronics', 250.00, 180.00, 350),
            ('Microphone USB', 'Electronics', 300.00, 200.00, 200),
            ('Speakers Bluetooth', 'Electronics', 200.00, 130.00, 450),
            ('Power Bank 20K', 'Electronics', 120.00, 80.00, 800),
            ('USB Hub 7-Port', 'Electronics', 80.00, 50.00, 300),
            ('Cable Organizer', 'Accessories', 25.00, 15.00, 500)
        ]
        
        product_values = []
        for name, category, price, cost, stock in products_data:
            product_values.append(f"('{name}', '{category}', {price}, {cost}, {stock})")
        
        product_sql = f"INSERT INTO products (name, category, price, cost, stock) VALUES {','.join(product_values)}"
        cursor.execute(product_sql)
        print(f"   Inserted {len(products_data)} products")
        
        # Step 4: Create 5000 customers
        print("4. Creating 5000 customers...")
        first_names = ['Ahmed', 'Mohammed', 'Omar', 'Ali', 'Hassan', 'Khalid', 'Abdulrahman', 'Abdullah', 'Salem', 'Faisal',
                      'Fatima', 'Aisha', 'Maryam', 'Nora', 'Sara', 'Layla', 'Huda', 'Reem', 'Zahra', 'Amina',
                      'Youssef', 'Ibrahim', 'Mansour', 'Fahad', 'Talal', 'Noura', 'Lina', 'Dina', 'Rana', 'Jana']
        
        last_names = ['Al-Rashid', 'Al-Zahra', 'Al-Qasimi', 'Al-Harbi', 'Al-Mansouri', 'Al-Fahad', 'Al-Dosari', 
                     'Al-Mutairi', 'Al-Otaibi', 'Al-Ghamdi', 'Al-Shehri', 'Al-Malki', 'Al-Qahtani', 'Al-Subai',
                     'Al-Anzi', 'Al-Dawsari', 'Al-Zahrani', 'Al-Shamrani', 'Al-Jubayr', 'Al-Saud']
        
        # Create customers in batches
        batch_size = 1000
        for batch in range(5):
            customer_values = []
            for i in range(batch_size):
                customer_num = batch * batch_size + i + 1
                first = random.choice(first_names)
                last = random.choice(last_names)
                name = f"{first} {last}"
                email = f"customer{customer_num}@email.com"
                phone = f"+96650{random.randint(1000000, 9999999)}"
                city_id = random.randint(1, 10)
                
                customer_values.append(f"('{name}', '{email}', '{phone}', {city_id})")
            
            customer_sql = f"INSERT INTO customers (name, email, phone, city_id) VALUES {','.join(customer_values)}"
            cursor.execute(customer_sql)
            print(f"   Inserted customers {batch * batch_size + 1} to {(batch + 1) * batch_size}")
        
        # Step 5: Create 5000 invoices with items
        print("5. Creating 5000 invoices...")
        
        end_date = datetime.now()
        start_date = end_date - timedelta(days=365)
        
        # Create invoices in batches
        invoice_batch_size = 500
        for batch in range(10):  # 10 batches of 500 invoices each
            invoice_values = []
            item_values = []
            movement_values = []
            
            # Generate invoices for this batch
            for i in range(invoice_batch_size):
                invoice_num = batch * invoice_batch_size + i + 1
                
                # Random date and customer
                random_days = random.randint(0, 365)
                invoice_date = (start_date + timedelta(days=random_days)).strftime('%Y-%m-%d')
                customer_id = random.randint(1, 5000)
                
                # Generate items for this invoice (will be inserted after invoice)
                items_count = random.randint(1, 6)
                total_amount = 0
                
                for item_idx in range(items_count):
                    product_id = random.randint(1, 20)
                    quantity = random.randint(1, 4)
                    
                    # Get product price from our data
                    unit_price = products_data[product_id - 1][2]  # price is index 2
                    line_total = unit_price * quantity
                    total_amount += line_total
                    
                    # Store for later insertion (using invoice_num as temporary ID)
                    item_values.append((invoice_num, product_id, quantity, unit_price, line_total))
                    movement_values.append((product_id, quantity, invoice_date, invoice_num))
                
                invoice_values.append(f"({customer_id}, '{invoice_date}', {total_amount}, 'completed')")
            
            # Insert this batch of invoices
            invoice_sql = f"INSERT INTO invoices (customer_id, invoice_date, total_amount, status) VALUES {','.join(invoice_values)}"
            cursor.execute(invoice_sql)
            
            # Get the actual invoice IDs that were created
            cursor.execute(f"""
                SELECT invoice_id FROM invoices 
                ORDER BY invoice_id DESC 
                LIMIT {invoice_batch_size}
            """)
            actual_invoice_ids = [row[0] for row in cursor.fetchall()]
            actual_invoice_ids.reverse()  # Put in correct order
            
            # Create mapping from temp ID to actual ID
            id_mapping = {}
            for idx, temp_id in enumerate(range(batch * invoice_batch_size + 1, (batch + 1) * invoice_batch_size + 1)):
                id_mapping[temp_id] = actual_invoice_ids[idx]
            
            # Insert items using actual invoice IDs
            item_sql_values = []
            movement_sql_values = []
            
            for temp_invoice_id, product_id, quantity, unit_price, line_total in item_values:
                actual_invoice_id = id_mapping[temp_invoice_id]
                item_sql_values.append(f"({actual_invoice_id}, {product_id}, {quantity}, {unit_price}, {line_total})")
            
            for product_id, quantity, invoice_date, temp_invoice_id in movement_values:
                actual_invoice_id = id_mapping[temp_invoice_id]
                movement_sql_values.append(f"({product_id}, 'OUT', {quantity}, '{invoice_date}', {actual_invoice_id}, 'Sale')")
            
            # Insert items and movements
            item_sql = f"INSERT INTO invoice_items (invoice_id, product_id, quantity, unit_price, line_total) VALUES {','.join(item_sql_values)}"
            cursor.execute(item_sql)
            
            movement_sql = f"INSERT INTO inventory_movements (product_id, movement_type, quantity, movement_date, invoice_id, notes) VALUES {','.join(movement_sql_values)}"
            cursor.execute(movement_sql)
            
            print(f"   Created invoices {batch * invoice_batch_size + 1} to {(batch + 1) * invoice_batch_size}")
        
        # Step 6: Update product stock based on sales
        print("6. Updating product stock...")
        for product_id in range(1, 21):
            cursor.execute(f"""
                UPDATE products 
                SET stock = stock - COALESCE((
                    SELECT SUM(quantity) 
                    FROM inventory_movements 
                    WHERE product_id = {product_id} AND movement_type = 'OUT'
                ), 0)
                WHERE product_id = {product_id}
            """)
        
        # Commit everything
        conn.commit()
        
        elapsed_time = time.time() - start_time
        print(f"\nCompleted in {elapsed_time:.2f} seconds!")
        
        # Final statistics
        cursor.execute("SELECT COUNT(*) FROM cities")
        cities_count = cursor.fetchone()[0]
        
        cursor.execute("SELECT COUNT(*) FROM customers")
        customers_count = cursor.fetchone()[0]
        
        cursor.execute("SELECT COUNT(*) FROM products")
        products_count = cursor.fetchone()[0]
        
        cursor.execute("SELECT COUNT(*) FROM invoices")
        invoices_count = cursor.fetchone()[0]
        
        cursor.execute("SELECT COUNT(*) FROM invoice_items")
        items_count = cursor.fetchone()[0]
        
        cursor.execute("SELECT COUNT(*) FROM inventory_movements")
        movements_count = cursor.fetchone()[0]
        
        cursor.execute("SELECT ROUND(SUM(total_amount)::numeric, 2) FROM invoices")
        total_revenue = cursor.fetchone()[0]
        
        print(f"\nFinal Database Statistics:")
        print(f"  Cities: {cities_count}")
        print(f"  Customers: {customers_count}")
        print(f"  Products: {products_count}")
        print(f"  Invoices: {invoices_count}")
        print(f"  Invoice Items: {items_count}")
        print(f"  Inventory Movements: {movements_count}")
        print(f"  Total Revenue: {total_revenue:,} SR")
        
        return True
        
    except Exception as e:
        conn.rollback()
        print(f"Error: {e}")
        return False
        
    finally:
        cursor.close()
        conn.close()

# Execute the complete database creation
create_complete_fresh_database()


# Find and delete admin photo storage
import os

def find_and_delete_admin_photos():
    """Locate and delete admin photo storage"""
    
    conn = psycopg2.connect(**DB_PARAMS)
    cursor = conn.cursor()
    
    try:
        print("Searching for admin photo storage...")
        
        # Check for facial auth related tables
        cursor.execute("""
            SELECT table_name 
            FROM information_schema.tables 
            WHERE table_schema = 'public' 
            AND (table_name LIKE '%auth%' OR table_name LIKE '%user%' OR table_name LIKE '%face%')
        """)
        
        auth_tables = cursor.fetchall()
        if auth_tables:
            print(f"Found potential auth tables: {[t[0] for t in auth_tables]}")
        else:
            print("No facial auth tables found in database")
        
        # Check for image/binary columns in any table
        cursor.execute("""
            SELECT table_name, column_name, data_type 
            FROM information_schema.columns 
            WHERE table_schema = 'public' 
            AND (column_name LIKE '%image%' OR column_name LIKE '%photo%' OR column_name LIKE '%face%' 
                 OR column_name LIKE '%encoding%' OR data_type = 'bytea' OR data_type = 'text')
            ORDER BY table_name, column_name
        """)
        
        image_columns = cursor.fetchall()
        potential_photo_columns = []
        for table, column, dtype in image_columns:
            if any(keyword in column.lower() for keyword in ['image', 'photo', 'face', 'encoding']):
                potential_photo_columns.append((table, column, dtype))
        
        if potential_photo_columns:
            print(f"Found potential photo columns: {potential_photo_columns}")
        else:
            print("No photo/image columns found")
        
        # Delete facial auth tables if they exist
        facial_auth_tables = [
            'authorized_users',
            'facial_auth_users', 
            'face_encodings',
            'auth_users',
            'user_faces',
            'admin_faces',
            'facial_users',
            'face_data'
        ]
        
        deleted_tables = []
        for table in facial_auth_tables:
            try:
                cursor.execute(f"DROP TABLE IF EXISTS {table} CASCADE")
                if cursor.rowcount >= 0:  # Table existed
                    deleted_tables.append(table)
            except Exception as e:
                continue
        
        if deleted_tables:
            print(f"Deleted facial auth tables: {deleted_tables}")
        else:
            print("No facial auth tables found to delete")
        
        # Check backend directory for photo files
        backend_path = "../backend"
        deleted_files = []
        
        if os.path.exists(backend_path):
            print(f"Checking {backend_path} directory for photo files...")
            for root, dirs, files in os.walk(backend_path):
                for file in files:
                    file_lower = file.lower()
                    if any(keyword in file_lower for keyword in ['face', 'admin', 'auth', 'encoding', 'photo']):
                        if any(file_lower.endswith(ext) for ext in ['.pkl', '.dat', '.jpg', '.jpeg', '.png', '.bin']):
                            file_path = os.path.join(root, file)
                            try:
                                os.remove(file_path)
                                deleted_files.append(file_path)
                                print(f"   Deleted file: {file_path}")
                            except Exception as e:
                                print(f"   Could not delete {file_path}: {e}")
        
        if not deleted_files:
            print("No facial auth files found to delete")
        
        # Clear any base64 image data from existing tables (if any columns contain it)
        cleared_columns = []
        for table, column, dtype in potential_photo_columns:
            if table in ['customers', 'products', 'invoices', 'cities']:  # Skip our main tables
                continue
            try:
                cursor.execute(f"UPDATE {table} SET {column} = NULL WHERE {column} IS NOT NULL")
                if cursor.rowcount > 0:
                    cleared_columns.append(f"{table}.{column}")
            except:
                continue
        
        if cleared_columns:
            print(f"Cleared image data from columns: {cleared_columns}")
        
        conn.commit()
        print("Admin photo storage cleanup completed successfully")
        
        return True
        
    except Exception as e:
        conn.rollback()
        print(f"Error during cleanup: {e}")
        return False
        
    finally:
        cursor.close()
        conn.close()

# Execute the cleanup
find_and_delete_admin_photos()


# Create user authentication and permissions system
import hashlib
import secrets

def create_user_auth_system():
    """Create tables for user authentication and chart permissions"""
    
    conn = psycopg2.connect(**DB_PARAMS)
    cursor = conn.cursor()
    
    try:
        print("Creating user authentication system...")
        
        # 1. Users table
        cursor.execute("""
            CREATE TABLE users (
                user_id SERIAL PRIMARY KEY,
                username VARCHAR(50) UNIQUE NOT NULL,
                email VARCHAR(100) UNIQUE NOT NULL,
                password_hash VARCHAR(255) NOT NULL,
                salt VARCHAR(32) NOT NULL,
                full_name VARCHAR(100) NOT NULL,
                role VARCHAR(20) DEFAULT 'viewer' CHECK (role IN ('admin', 'manager', 'analyst', 'viewer')),
                is_active BOOLEAN DEFAULT true,
                face_recognition_enabled BOOLEAN DEFAULT false,
                face_encoding TEXT NULL,
                created_at TIMESTAMP DEFAULT NOW(),
                last_login TIMESTAMP NULL,
                login_attempts INTEGER DEFAULT 0,
                locked_until TIMESTAMP NULL
            );
        """)
        print("Created users table")
        
        # 2. Chart definitions table
        cursor.execute("""
            CREATE TABLE charts (
                chart_id SERIAL PRIMARY KEY,
                chart_name VARCHAR(100) NOT NULL,
                chart_description TEXT,
                chart_type VARCHAR(50) NOT NULL,
                sql_query TEXT NOT NULL,
                category VARCHAR(50) DEFAULT 'general',
                required_role VARCHAR(20) DEFAULT 'viewer',
                is_active BOOLEAN DEFAULT true,
                created_at TIMESTAMP DEFAULT NOW()
            );
        """)
        print("Created charts table")
        
        # 3. User chart permissions table
        cursor.execute("""
            CREATE TABLE user_chart_permissions (
                permission_id SERIAL PRIMARY KEY,
                user_id INTEGER NOT NULL REFERENCES users(user_id) ON DELETE CASCADE,
                chart_id INTEGER NOT NULL REFERENCES charts(chart_id) ON DELETE CASCADE,
                can_view BOOLEAN DEFAULT true,
                can_export BOOLEAN DEFAULT false,
                granted_by INTEGER REFERENCES users(user_id),
                granted_at TIMESTAMP DEFAULT NOW(),
                UNIQUE(user_id, chart_id)
            );
        """)
        print("Created user_chart_permissions table")
        
        # 4. User sessions table
        cursor.execute("""
            CREATE TABLE user_sessions (
                session_id VARCHAR(64) PRIMARY KEY,
                user_id INTEGER NOT NULL REFERENCES users(user_id) ON DELETE CASCADE,
                created_at TIMESTAMP DEFAULT NOW(),
                expires_at TIMESTAMP NOT NULL,
                ip_address INET,
                user_agent TEXT,
                is_active BOOLEAN DEFAULT true
            );
        """)
        print("Created user_sessions table")
        
        # 5. Audit log table
        cursor.execute("""
            CREATE TABLE audit_log (
                log_id SERIAL PRIMARY KEY,
                user_id INTEGER REFERENCES users(user_id),
                action VARCHAR(100) NOT NULL,
                resource_type VARCHAR(50),
                resource_id INTEGER,
                details JSONB,
                ip_address INET,
                timestamp TIMESTAMP DEFAULT NOW()
            );
        """)
        print("Created audit_log table")
        
        # Create indexes for performance
        print("Creating indexes...")
        indexes = [
            "CREATE INDEX idx_users_username ON users(username);",
            "CREATE INDEX idx_users_email ON users(email);",
            "CREATE INDEX idx_users_role ON users(role);",
            "CREATE INDEX idx_user_permissions_user ON user_chart_permissions(user_id);",
            "CREATE INDEX idx_user_permissions_chart ON user_chart_permissions(chart_id);",
            "CREATE INDEX idx_sessions_user ON user_sessions(user_id);",
            "CREATE INDEX idx_sessions_expires ON user_sessions(expires_at);",
            "CREATE INDEX idx_audit_user ON audit_log(user_id);",
            "CREATE INDEX idx_audit_timestamp ON audit_log(timestamp);"
        ]
        
        for index_sql in indexes:
            cursor.execute(index_sql)
        
        # Insert default charts
        print("Creating default charts...")
        default_charts = [
            ('Monthly Sales', 'Monthly sales performance over time', 'line', 
             '''SELECT TO_CHAR(invoice_date, 'YYYY-MM') as month,
                       COUNT(*) as invoice_count,
                       ROUND(SUM(total_amount)::numeric, 2) as total_sales
                FROM invoices
                WHERE invoice_date >= CURRENT_DATE - INTERVAL '12 months'
                GROUP BY TO_CHAR(invoice_date, 'YYYY-MM')
                ORDER BY month''', 
             'sales', 'viewer'),
            
            ('Top Customers', 'Top customers by total spending', 'bar',
             '''SELECT c.name, 
                       COUNT(i.invoice_id) as total_orders,
                       ROUND(COALESCE(SUM(i.total_amount), 0)::numeric, 2) as total_spent
                FROM customers c
                LEFT JOIN invoices i ON c.customer_id = i.customer_id
                GROUP BY c.customer_id, c.name
                ORDER BY total_spent DESC
                LIMIT 10''',
             'customers', 'viewer'),
            
            ('Product Performance', 'Best selling products by revenue', 'bar',
             '''SELECT p.name,
                       SUM(ii.quantity) as units_sold,
                       ROUND(SUM(ii.line_total)::numeric, 2) as revenue
                FROM products p
                LEFT JOIN invoice_items ii ON p.product_id = ii.product_id
                GROUP BY p.product_id, p.name
                ORDER BY revenue DESC NULLS LAST
                LIMIT 10''',
             'products', 'analyst'),
            
            ('Sales by City', 'Geographic distribution of sales', 'pie',
             '''SELECT ci.city_name,
                       ROUND(COALESCE(SUM(i.total_amount), 0)::numeric, 2) as total_sales
                FROM cities ci
                LEFT JOIN customers c ON ci.city_id = c.city_id
                LEFT JOIN invoices i ON c.customer_id = i.customer_id
                GROUP BY ci.city_id, ci.city_name
                HAVING SUM(i.total_amount) > 0
                ORDER BY total_sales DESC''',
             'geographic', 'viewer'),
            
            ('Inventory Status', 'Current stock levels by product', 'bar',
             '''SELECT name, stock, 
                       ROUND((price * stock)::numeric, 2) as stock_value
                FROM products
                WHERE stock > 0
                ORDER BY stock_value DESC''',
             'inventory', 'manager'),
            
            ('Daily Sales Trend', 'Sales performance by day', 'line',
             '''SELECT invoice_date,
                       COUNT(*) as orders,
                       ROUND(SUM(total_amount)::numeric, 2) as daily_sales
                FROM invoices
                WHERE invoice_date >= CURRENT_DATE - INTERVAL '30 days'
                GROUP BY invoice_date
                ORDER BY invoice_date''',
             'sales', 'manager'),
            
            ('Financial Summary', 'Complete financial overview', 'table',
             '''SELECT 
                    'Total Revenue' as metric,
                    ROUND(SUM(total_amount)::numeric, 2) as value
                FROM invoices
                UNION ALL
                SELECT 
                    'Total Orders' as metric,
                    COUNT(*)::numeric as value
                FROM invoices
                UNION ALL
                SELECT 
                    'Active Customers' as metric,
                    COUNT(DISTINCT customer_id)::numeric as value
                FROM invoices''',
             'financial', 'admin')
        ]
        
        for chart_name, description, chart_type, sql_query, category, required_role in default_charts:
            cursor.execute("""
                INSERT INTO charts (chart_name, chart_description, chart_type, sql_query, category, required_role)
                VALUES (%s, %s, %s, %s, %s, %s)
            """, (chart_name, description, chart_type, sql_query, category, required_role))
        
        print(f"Inserted {len(default_charts)} default charts")
        
        conn.commit()
        print("User authentication system created successfully!")
        
        # Show summary
        cursor.execute("SELECT COUNT(*) FROM charts")
        charts_count = cursor.fetchone()[0]
        
        print(f"\nSystem Summary:")
        print(f"  Charts available: {charts_count}")
        print(f"  Role hierarchy: admin > manager > analyst > viewer")
        print(f"  Features: password auth, chart permissions, session management, audit logging")
        
        return True
        
    except Exception as e:
        conn.rollback()
        print(f"Error creating auth system: {e}")
        return False
        
    finally:
        cursor.close()
        conn.close()

def create_sample_users():
    """Create sample users with different roles"""
    
    conn = psycopg2.connect(**DB_PARAMS)
    cursor = conn.cursor()
    
    try:
        print("Creating sample users...")
        
        # Sample users with different roles
        users_data = [
            ('admin', 'admin@company.com', 'Admin User', 'admin'),
            ('manager1', 'manager@company.com', 'Sales Manager', 'manager'),
            ('analyst1', 'analyst@company.com', 'Data Analyst', 'analyst'),
            ('viewer1', 'viewer@company.com', 'General User', 'viewer')
        ]
        
        for username, email, full_name, role in users_data:
            # Generate salt and hash password (password = username for demo)
            salt = secrets.token_hex(16)
            password = username  # Simple for demo
            password_hash = hashlib.sha256((password + salt).encode()).hexdigest()
            
            cursor.execute("""
                INSERT INTO users (username, email, password_hash, salt, full_name, role)
                VALUES (%s, %s, %s, %s, %s, %s)
            """, (username, email, password_hash, salt, full_name, role))
            
            print(f"  Created user: {username} (role: {role}, password: {password})")
        
        conn.commit()
        print("Sample users created successfully!")
        
    except Exception as e:
        conn.rollback()
        print(f"Error creating sample users: {e}")
        
    finally:
        cursor.close()
        conn.close()

# Execute the auth system creation
create_user_auth_system()
print("\n" + "="*50)
create_sample_users()


# Execute the permissions setup
setup_chart_permissions()
print("\n" + "="*60)
show_permission_summary()
print("\n" + "="*60)
create_face_recognition_structure()


# Setup chart access permissions for users
def setup_chart_permissions():
    """Configure which users can access which charts"""
    
    conn = psycopg2.connect(**DB_PARAMS)
    cursor = conn.cursor()
    
    try:
        print("Setting up chart access permissions...")
        
        # Get all users and charts
        cursor.execute("SELECT user_id, username, role FROM users ORDER BY user_id")
        users = cursor.fetchall()
        
        cursor.execute("SELECT chart_id, chart_name, required_role FROM charts ORDER BY chart_id")
        charts = cursor.fetchall()
        
        print(f"Found {len(users)} users and {len(charts)} charts")
        
        # Role hierarchy
        role_hierarchy = {
            'admin': 4,
            'manager': 3,
            'analyst': 2,
            'viewer': 1
        }
        
        permissions_created = 0
        
        # For each user, grant access to charts based on role hierarchy
        for user_id, username, user_role in users:
            user_level = role_hierarchy.get(user_role, 0)
            
            for chart_id, chart_name, required_role in charts:
                chart_level = role_hierarchy.get(required_role, 0)
                
                # User can access chart if their role level >= chart's required level
                if user_level >= chart_level:
                    can_export = user_role in ['admin', 'manager']  # Only admin/manager can export
                    
                    cursor.execute("""
                        INSERT INTO user_chart_permissions (user_id, chart_id, can_view, can_export, granted_by)
                        VALUES (%s, %s, %s, %s, 1)
                        ON CONFLICT (user_id, chart_id) DO UPDATE SET
                        can_view = EXCLUDED.can_view,
                        can_export = EXCLUDED.can_export
                    """, (user_id, chart_id, True, can_export))
                    
                    permissions_created += 1
                    print(f"  {username} ({user_role}) -> {chart_name} (view: Yes, export: {can_export})")
        
        conn.commit()
        print(f"\nPermissions setup completed! Created {permissions_created} permissions.")
        
        # Show summary
        cursor.execute("""
            SELECT u.username, u.role, COUNT(ucp.chart_id) as accessible_charts
            FROM users u
            LEFT JOIN user_chart_permissions ucp ON u.user_id = ucp.user_id
            GROUP BY u.user_id, u.username, u.role
            ORDER BY u.role DESC
        """)
        
        results = cursor.fetchall()
        print("\nUser Access Summary:")
        for username, role, chart_count in results:
            print(f"  {username} ({role}): {chart_count} charts")
        
        return True
        
    except Exception as e:
        conn.rollback()
        print(f"Error setting up permissions: {e}")
        return False
        
    finally:
        cursor.close()
        conn.close()

def create_face_recognition_structure():
    """Prepare database structure for optional face recognition"""
    
    conn = psycopg2.connect(**DB_PARAMS)
    cursor = conn.cursor()
    
    try:
        print("\nPreparing face recognition structure...")
        
        cursor.execute("""
            CREATE TABLE IF NOT EXISTS face_recognition_data (
                face_id SERIAL PRIMARY KEY,
                user_id INTEGER NOT NULL REFERENCES users(user_id) ON DELETE CASCADE,
                face_encoding TEXT NOT NULL,
                encoding_version VARCHAR(10) DEFAULT '1.0',
                quality_score DECIMAL(3,2),
                created_at TIMESTAMP DEFAULT NOW(),
                last_used TIMESTAMP,
                is_active BOOLEAN DEFAULT true,
                UNIQUE(user_id)
            );
        """)
        
        cursor.execute("""
            CREATE TABLE IF NOT EXISTS face_auth_attempts (
                attempt_id SERIAL PRIMARY KEY,
                user_id INTEGER REFERENCES users(user_id),
                ip_address INET,
                success BOOLEAN NOT NULL,
                confidence_score DECIMAL(3,2),
                attempt_time TIMESTAMP DEFAULT NOW(),
                error_message TEXT
            );
        """)
        
        cursor.execute("CREATE INDEX IF NOT EXISTS idx_face_data_user ON face_recognition_data(user_id);")
        cursor.execute("CREATE INDEX IF NOT EXISTS idx_face_attempts_user ON face_auth_attempts(user_id);")
        
        conn.commit()
        print("Face recognition structure ready!")
        
        return True
        
    except Exception as e:
        conn.rollback()
        print(f"Error creating face recognition structure: {e}")
        return False
        
    finally:
        cursor.close()
        conn.close()

# Run both setups
setup_chart_permissions()
create_face_recognition_structure()

print("\n" + "="*50)
print("ALL REQUIREMENTS COMPLETED:")
print("✅ 1. Deleted admin photo storage")
print("✅ 2. Created database with 5000 invoices + 5000 customers") 
print("✅ 3. Built user/password login system")
print("✅ 4. Prepared face recognition integration")
print("✅ 5. Implemented user-specific chart access")
print("="*50)


# Database Table Permissions Management System
def create_table_permissions_system():
    """Create a system to manage user permissions for database tables"""
    
    conn = psycopg2.connect(**DB_PARAMS)
    cursor = conn.cursor()
    
    try:
        print("Creating table permissions management system...")
        
        # 1. Database tables registry
        cursor.execute("""
            CREATE TABLE IF NOT EXISTS database_tables (
                table_id SERIAL PRIMARY KEY,
                table_name VARCHAR(100) NOT NULL UNIQUE,
                table_description TEXT,
                is_system_table BOOLEAN DEFAULT false,
                is_active BOOLEAN DEFAULT true,
                created_at TIMESTAMP DEFAULT NOW()
            );
        """)
        print("Created database_tables registry")
        
        # 2. Permission types
        cursor.execute("""
            CREATE TABLE IF NOT EXISTS permission_types (
                permission_id SERIAL PRIMARY KEY,
                permission_name VARCHAR(50) NOT NULL UNIQUE,
                permission_description TEXT
            );
        """)
        print("Created permission_types table")
        
        # 3. User table permissions
        cursor.execute("""
            CREATE TABLE IF NOT EXISTS user_table_permissions (
                utp_id SERIAL PRIMARY KEY,
                user_id INTEGER NOT NULL REFERENCES users(user_id) ON DELETE CASCADE,
                table_id INTEGER NOT NULL REFERENCES database_tables(table_id) ON DELETE CASCADE,
                permission_id INTEGER NOT NULL REFERENCES permission_types(permission_id) ON DELETE CASCADE,
                granted_by INTEGER REFERENCES users(user_id),
                granted_at TIMESTAMP DEFAULT NOW(),
                expires_at TIMESTAMP NULL,
                is_active BOOLEAN DEFAULT true,
                UNIQUE(user_id, table_id, permission_id)
            );
        """)
        print("Created user_table_permissions table")
        
        # 4. Permission audit log
        cursor.execute("""
            CREATE TABLE IF NOT EXISTS permission_audit (
                audit_id SERIAL PRIMARY KEY,
                user_id INTEGER REFERENCES users(user_id),
                table_name VARCHAR(100),
                permission_name VARCHAR(50),
                action VARCHAR(20), -- 'granted', 'revoked', 'used'
                granted_by INTEGER REFERENCES users(user_id),
                ip_address INET,
                timestamp TIMESTAMP DEFAULT NOW(),
                details JSONB
            );
        """)
        print("Created permission_audit table")
        
        # Create indexes
        cursor.execute("CREATE INDEX IF NOT EXISTS idx_utp_user ON user_table_permissions(user_id);")
        cursor.execute("CREATE INDEX IF NOT EXISTS idx_utp_table ON user_table_permissions(table_id);")
        cursor.execute("CREATE INDEX IF NOT EXISTS idx_audit_user ON permission_audit(user_id);")
        cursor.execute("CREATE INDEX IF NOT EXISTS idx_audit_timestamp ON permission_audit(timestamp);")
        
        # Insert permission types
        permission_types = [
            ('READ', 'Can view/select data from table'),
            ('INSERT', 'Can add new records to table'),
            ('UPDATE', 'Can modify existing records in table'),
            ('DELETE', 'Can delete records from table'),
            ('ADMIN', 'Full administrative access to table')
        ]
        
        for perm_name, perm_desc in permission_types:
            cursor.execute("""
                INSERT INTO permission_types (permission_name, permission_description)
                VALUES (%s, %s)
                ON CONFLICT (permission_name) DO NOTHING
            """, (perm_name, perm_desc))
        
        print("Inserted permission types")
        
        # Register all current tables
        cursor.execute("""
            SELECT table_name 
            FROM information_schema.tables 
            WHERE table_schema = 'public'
            ORDER BY table_name
        """)
        
        current_tables = cursor.fetchall()
        
        table_descriptions = {
            'users': 'User accounts and authentication data',
            'customers': 'Customer information and contact details',
            'products': 'Product catalog with pricing and inventory',
            'invoices': 'Sales invoices and transaction records',
            'invoice_items': 'Individual line items for invoices',
            'cities': 'Geographic city reference data',
            'inventory_movements': 'Stock movement tracking',
            'charts': 'Chart definitions and configurations',
            'user_chart_permissions': 'Chart access permissions',
            'user_sessions': 'Active user session tracking',
            'audit_log': 'System activity audit trail',
            'face_recognition_data': 'Facial recognition encodings',
            'face_auth_attempts': 'Face authentication attempt logs',
            'database_tables': 'Database table registry',
            'permission_types': 'Available permission types',
            'user_table_permissions': 'User database permissions',
            'permission_audit': 'Permission change audit log'
        }
        
        for (table_name,) in current_tables:
            description = table_descriptions.get(table_name, f'Database table: {table_name}')
            is_system = table_name in ['permission_types', 'database_tables', 'user_table_permissions', 'permission_audit']
            
            cursor.execute("""
                INSERT INTO database_tables (table_name, table_description, is_system_table)
                VALUES (%s, %s, %s)
                ON CONFLICT (table_name) DO UPDATE SET
                table_description = EXCLUDED.table_description,
                is_system_table = EXCLUDED.is_system_table
            """, (table_name, description, is_system))
        
        print(f"Registered {len(current_tables)} database tables")
        
        conn.commit()
        print("Table permissions system created successfully!")
        
        return True
        
    except Exception as e:
        conn.rollback()
        print(f"Error creating permissions system: {e}")
        return False
        
    finally:
        cursor.close()
        conn.close()

def grant_user_table_permission(username, table_name, permission_name, granted_by_username='admin'):
    """Grant a specific table permission to a user"""
    
    conn = psycopg2.connect(**DB_PARAMS)
    cursor = conn.cursor()
    
    try:
        # Get user IDs
        cursor.execute("SELECT user_id FROM users WHERE username = %s", (username,))
        user_result = cursor.fetchone()
        if not user_result:
            print(f"User '{username}' not found")
            return False
        user_id = user_result[0]
        
        cursor.execute("SELECT user_id FROM users WHERE username = %s", (granted_by_username,))
        granted_by_result = cursor.fetchone()
        granted_by_id = granted_by_result[0] if granted_by_result else None
        
        # Get table ID
        cursor.execute("SELECT table_id FROM database_tables WHERE table_name = %s", (table_name,))
        table_result = cursor.fetchone()
        if not table_result:
            print(f"Table '{table_name}' not found")
            return False
        table_id = table_result[0]
        
        # Get permission ID
        cursor.execute("SELECT permission_id FROM permission_types WHERE permission_name = %s", (permission_name,))
        perm_result = cursor.fetchone()
        if not perm_result:
            print(f"Permission '{permission_name}' not found")
            return False
        permission_id = perm_result[0]
        
        # Grant permission
        cursor.execute("""
            INSERT INTO user_table_permissions (user_id, table_id, permission_id, granted_by)
            VALUES (%s, %s, %s, %s)
            ON CONFLICT (user_id, table_id, permission_id) DO UPDATE SET
            granted_by = EXCLUDED.granted_by,
            granted_at = NOW(),
            is_active = true
        """, (user_id, table_id, permission_id, granted_by_id))
        
        # Log the action
        cursor.execute("""
            INSERT INTO permission_audit (user_id, table_name, permission_name, action, granted_by)
            VALUES (%s, %s, %s, 'granted', %s)
        """, (user_id, table_name, permission_name, granted_by_id))
        
        conn.commit()
        print(f"Granted {permission_name} permission on {table_name} to {username}")
        return True
        
    except Exception as e:
        conn.rollback()
        print(f"Error granting permission: {e}")
        return False
        
    finally:
        cursor.close()
        conn.close()

def revoke_user_table_permission(username, table_name, permission_name, revoked_by_username='admin'):
    """Revoke a specific table permission from a user"""
    
    conn = psycopg2.connect(**DB_PARAMS)
    cursor = conn.cursor()
    
    try:
        # Get user ID
        cursor.execute("SELECT user_id FROM users WHERE username = %s", (username,))
        user_result = cursor.fetchone()
        if not user_result:
            print(f"User '{username}' not found")
            return False
        user_id = user_result[0]
        
        cursor.execute("SELECT user_id FROM users WHERE username = %s", (revoked_by_username,))
        revoked_by_result = cursor.fetchone()
        revoked_by_id = revoked_by_result[0] if revoked_by_result else None
        
        # Revoke permission
        cursor.execute("""
            UPDATE user_table_permissions 
            SET is_active = false
            WHERE user_id = (SELECT user_id FROM users WHERE username = %s)
            AND table_id = (SELECT table_id FROM database_tables WHERE table_name = %s)
            AND permission_id = (SELECT permission_id FROM permission_types WHERE permission_name = %s)
        """, (username, table_name, permission_name))
        
        if cursor.rowcount > 0:
            # Log the action
            cursor.execute("""
                INSERT INTO permission_audit (user_id, table_name, permission_name, action, granted_by)
                VALUES (%s, %s, %s, 'revoked', %s)
            """, (user_id, table_name, permission_name, revoked_by_id))
            
            conn.commit()
            print(f"Revoked {permission_name} permission on {table_name} from {username}")
            return True
        else:
            print(f"Permission not found or already revoked")
            return False
        
    except Exception as e:
        conn.rollback()
        print(f"Error revoking permission: {e}")
        return False
        
    finally:
        cursor.close()
        conn.close()

def show_user_permissions(username=None):
    """Show all permissions for a specific user or all users"""
    
    conn = psycopg2.connect(**DB_PARAMS)
    cursor = conn.cursor()
    
    try:
        if username:
            cursor.execute("""
                SELECT u.username, u.role, dt.table_name, pt.permission_name, 
                       utp.granted_at, gu.username as granted_by
                FROM users u
                JOIN user_table_permissions utp ON u.user_id = utp.user_id
                JOIN database_tables dt ON utp.table_id = dt.table_id
                JOIN permission_types pt ON utp.permission_id = pt.permission_id
                LEFT JOIN users gu ON utp.granted_by = gu.user_id
                WHERE u.username = %s AND utp.is_active = true
                ORDER BY dt.table_name, pt.permission_name
            """, (username,))
            
            print(f"Permissions for user: {username}")
        else:
            cursor.execute("""
                SELECT u.username, u.role, dt.table_name, pt.permission_name, 
                       utp.granted_at, gu.username as granted_by
                FROM users u
                JOIN user_table_permissions utp ON u.user_id = utp.user_id
                JOIN database_tables dt ON utp.table_id = dt.table_id
                JOIN permission_types pt ON utp.permission_id = pt.permission_id
                LEFT JOIN users gu ON utp.granted_by = gu.user_id
                WHERE utp.is_active = true
                ORDER BY u.username, dt.table_name, pt.permission_name
            """)
            
            print("All user permissions:")
        
        results = cursor.fetchall()
        current_user = None
        
        for username, role, table_name, permission, granted_at, granted_by in results:
            if username != current_user:
                print(f"\n{username} ({role}):")
                current_user = username
            
            granted_by_text = f" (by {granted_by})" if granted_by else ""
            print(f"  {table_name}: {permission}{granted_by_text}")
        
        if not results:
            print("No permissions found")
        
        return True
        
    except Exception as e:
        print(f"Error showing permissions: {e}")
        return False
        
    finally:
        cursor.close()
        conn.close()

def setup_default_permissions():
    """Set up default permissions for existing users"""
    
    print("Setting up default table permissions...")
    
    # Admin gets all permissions on all tables
    admin_tables = ['customers', 'products', 'invoices', 'invoice_items', 'cities', 'inventory_movements']
    for table in admin_tables:
        for permission in ['READ', 'INSERT', 'UPDATE', 'DELETE']:
            grant_user_table_permission('admin', table, permission)
    
    # Manager gets read/insert/update on business tables
    manager_permissions = [
        ('customers', ['READ', 'INSERT', 'UPDATE']),
        ('products', ['READ', 'INSERT', 'UPDATE']),
        ('invoices', ['READ', 'INSERT', 'UPDATE']),
        ('invoice_items', ['READ', 'INSERT', 'UPDATE']),
        ('cities', ['READ']),
        ('inventory_movements', ['READ', 'INSERT'])
    ]
    
    for table, perms in manager_permissions:
        for perm in perms:
            grant_user_table_permission('manager1', table, perm)
    
    # Analyst gets read access to most tables
    analyst_tables = ['customers', 'products', 'invoices', 'invoice_items', 'cities', 'inventory_movements']
    for table in analyst_tables:
        grant_user_table_permission('analyst1', table, 'READ')
    
    # Viewer gets limited read access
    viewer_tables = ['customers', 'products', 'invoices']
    for table in viewer_tables:
        grant_user_table_permission('viewer1', table, 'READ')
    
    print("Default permissions configured!")

# Execute the system creation
create_table_permissions_system()
print("\n" + "="*50)
setup_default_permissions()
print("\n" + "="*50)
show_user_permissions()


# Receipt Scanner and Improved Face Authentication System
import base64
import json
from datetime import datetime

def create_receipt_scanner_system():
    """Create database tables for receipt scanning functionality"""
    
    conn = psycopg2.connect(**DB_PARAMS)
    cursor = conn.cursor()
    
    try:
        print("Creating receipt scanner system...")
        
        # 1. Receipt images table
        cursor.execute("""
            CREATE TABLE IF NOT EXISTS receipt_images (
                receipt_id SERIAL PRIMARY KEY,
                user_id INTEGER NOT NULL REFERENCES users(user_id),
                image_data TEXT NOT NULL,
                image_format VARCHAR(10) DEFAULT 'jpeg',
                file_size INTEGER,
                captured_at TIMESTAMP DEFAULT NOW(),
                processed_at TIMESTAMP NULL,
                status VARCHAR(20) DEFAULT 'pending' CHECK (status IN ('pending', 'processing', 'completed', 'failed')),
                confidence_score DECIMAL(3,2),
                raw_text TEXT,
                structured_data JSONB
            );
        """)
        
        # 2. Extracted invoice data from receipts
        cursor.execute("""
            CREATE TABLE IF NOT EXISTS receipt_invoices (
                receipt_invoice_id SERIAL PRIMARY KEY,
                receipt_id INTEGER NOT NULL REFERENCES receipt_images(receipt_id) ON DELETE CASCADE,
                vendor_name VARCHAR(200),
                receipt_date DATE,
                receipt_number VARCHAR(100),
                total_amount DECIMAL(12,2),
                tax_amount DECIMAL(10,2),
                currency VARCHAR(10) DEFAULT 'SAR',
                payment_method VARCHAR(50),
                created_invoice_id INTEGER REFERENCES invoices(invoice_id),
                verification_status VARCHAR(20) DEFAULT 'unverified',
                verified_by INTEGER REFERENCES users(user_id),
                verified_at TIMESTAMP NULL
            );
        """)
        
        # 3. Receipt line items
        cursor.execute("""
            CREATE TABLE IF NOT EXISTS receipt_items (
                item_id SERIAL PRIMARY KEY,
                receipt_invoice_id INTEGER NOT NULL REFERENCES receipt_invoices(receipt_invoice_id) ON DELETE CASCADE,
                item_description TEXT,
                quantity DECIMAL(8,2) DEFAULT 1,
                unit_price DECIMAL(10,2),
                line_total DECIMAL(12,2),
                matched_product_id INTEGER REFERENCES products(product_id),
                confidence_score DECIMAL(3,2)
            );
        """)
        
        # Create indexes
        cursor.execute("CREATE INDEX IF NOT EXISTS idx_receipts_user ON receipt_images(user_id);")
        cursor.execute("CREATE INDEX IF NOT EXISTS idx_receipts_status ON receipt_images(status);")
        cursor.execute("CREATE INDEX IF NOT EXISTS idx_receipt_invoices_date ON receipt_invoices(receipt_date);")
        
        print("Receipt scanner tables created")
        
        # Update face recognition system for better accuracy
        print("Improving face recognition system...")
        
        # Add better face recognition settings
        cursor.execute("""
            ALTER TABLE face_recognition_data 
            ADD COLUMN IF NOT EXISTS face_image_original TEXT,
            ADD COLUMN IF NOT EXISTS face_landmarks JSONB,
            ADD COLUMN IF NOT EXISTS recognition_model VARCHAR(20) DEFAULT 'facenet',
            ADD COLUMN IF NOT EXISTS min_confidence DECIMAL(3,2) DEFAULT 0.85;
        """)
        
        # Face recognition settings table
        cursor.execute("""
            CREATE TABLE IF NOT EXISTS face_recognition_settings (
                setting_id SERIAL PRIMARY KEY,
                setting_name VARCHAR(50) UNIQUE NOT NULL,
                setting_value TEXT NOT NULL,
                description TEXT,
                updated_at TIMESTAMP DEFAULT NOW()
            );
        """)
        
        # Insert default face recognition settings
        face_settings = [
            ('min_confidence_threshold', '0.85', 'Minimum confidence score for face match'),
            ('max_distance_threshold', '0.4', 'Maximum distance for face recognition'),
            ('face_detection_model', 'hog', 'Face detection model (hog or cnn)'),
            ('num_jitters', '10', 'Number of times to jitter face during encoding'),
            ('tolerance', '0.4', 'Face recognition tolerance'),
            ('enable_face_landmarks', 'true', 'Enable face landmark detection'),
            ('require_eyes_open', 'false', 'Require eyes to be open for registration')
        ]
        
        for name, value, desc in face_settings:
            cursor.execute("""
                INSERT INTO face_recognition_settings (setting_name, setting_value, description)
                VALUES (%s, %s, %s)
                ON CONFLICT (setting_name) DO UPDATE SET
                setting_value = EXCLUDED.setting_value,
                updated_at = NOW()
            """, (name, value, desc))
        
        print("Face recognition system improved")
        
        conn.commit()
        print("Receipt scanner and face authentication systems created successfully!")
        
        return True
        
    except Exception as e:
        conn.rollback()
        print(f"Error creating systems: {e}")
        return False
        
    finally:
        cursor.close()
        conn.close()

def process_receipt_image(user_id, image_base64, image_format='jpeg'):
    """Process a receipt image and extract invoice data"""
    
    conn = psycopg2.connect(**DB_PARAMS)
    cursor = conn.cursor()
    
    try:
        print(f"Processing receipt for user {user_id}...")
        
        # Calculate file size
        file_size = len(image_base64) * 3 / 4  # Approximate size from base64
        
        # Insert receipt image
        cursor.execute("""
            INSERT INTO receipt_images (user_id, image_data, image_format, file_size, status)
            VALUES (%s, %s, %s, %s, 'processing')
            RETURNING receipt_id
        """, (user_id, image_base64, image_format, int(file_size)))
        
        receipt_id = cursor.fetchone()[0]
        
        # Simulate OCR processing (in real implementation, you'd use OCR service)
        # For demo, create sample extracted data
        sample_receipt_data = {
            'vendor_name': 'Sample Store',
            'receipt_date': datetime.now().date().isoformat(),
            'receipt_number': f'RCP{receipt_id:06d}',
            'total_amount': 156.75,
            'tax_amount': 23.51,
            'items': [
                {'description': 'Laptop Pro 15"', 'quantity': 1, 'unit_price': 100.00, 'line_total': 100.00},
                {'description': 'Wireless Mouse', 'quantity': 2, 'unit_price': 28.375, 'line_total': 56.75}
            ]
        }
        
        # Insert receipt invoice data
        cursor.execute("""
            INSERT INTO receipt_invoices 
            (receipt_id, vendor_name, receipt_date, receipt_number, total_amount, tax_amount)
            VALUES (%s, %s, %s, %s, %s, %s)
            RETURNING receipt_invoice_id
        """, (receipt_id, sample_receipt_data['vendor_name'], sample_receipt_data['receipt_date'],
              sample_receipt_data['receipt_number'], sample_receipt_data['total_amount'], 
              sample_receipt_data['tax_amount']))
        
        receipt_invoice_id = cursor.fetchone()[0]
        
        # Insert receipt items
        for item in sample_receipt_data['items']:
            # Try to match with existing products
            cursor.execute("""
                SELECT product_id FROM products 
                WHERE LOWER(name) LIKE LOWER(%s) 
                LIMIT 1
            """, (f"%{item['description']}%",))
            
            product_match = cursor.fetchone()
            matched_product_id = product_match[0] if product_match else None
            
            cursor.execute("""
                INSERT INTO receipt_items 
                (receipt_invoice_id, item_description, quantity, unit_price, line_total, matched_product_id, confidence_score)
                VALUES (%s, %s, %s, %s, %s, %s, %s)
            """, (receipt_invoice_id, item['description'], item['quantity'], 
                  item['unit_price'], item['line_total'], matched_product_id, 0.92))
        
        # Update receipt status
        cursor.execute("""
            UPDATE receipt_images 
            SET status = 'completed', processed_at = NOW(), confidence_score = 0.92,
                structured_data = %s
            WHERE receipt_id = %s
        """, (json.dumps(sample_receipt_data), receipt_id))
        
        conn.commit()
        print(f"Receipt processed successfully! Receipt ID: {receipt_id}")
        
        return {
            'success': True,
            'receipt_id': receipt_id,
            'receipt_invoice_id': receipt_invoice_id,
            'extracted_data': sample_receipt_data
        }
        
    except Exception as e:
        conn.rollback()
        print(f"Error processing receipt: {e}")
        return {'success': False, 'error': str(e)}
        
    finally:
        cursor.close()
        conn.close()

def create_invoice_from_receipt(receipt_invoice_id, customer_id, user_id):
    """Convert a processed receipt into a regular invoice"""
    
    conn = psycopg2.connect(**DB_PARAMS)
    cursor = conn.cursor()
    
    try:
        print(f"Creating invoice from receipt {receipt_invoice_id}...")
        
        # Get receipt data
        cursor.execute("""
            SELECT vendor_name, receipt_date, total_amount, tax_amount
            FROM receipt_invoices 
            WHERE receipt_invoice_id = %s
        """, (receipt_invoice_id,))
        
        receipt_data = cursor.fetchone()
        if not receipt_data:
            return {'success': False, 'error': 'Receipt not found'}
        
        vendor_name, receipt_date, total_amount, tax_amount = receipt_data
        
        # Create invoice
        cursor.execute("""
            INSERT INTO invoices (customer_id, invoice_date, total_amount, status)
            VALUES (%s, %s, %s, 'completed')
            RETURNING invoice_id
        """, (customer_id, receipt_date, total_amount))
        
        invoice_id = cursor.fetchone()[0]
        
        # Get receipt items
        cursor.execute("""
            SELECT item_description, quantity, unit_price, line_total, matched_product_id
            FROM receipt_items 
            WHERE receipt_invoice_id = %s
        """, (receipt_invoice_id,))
        
        receipt_items = cursor.fetchall()
        
        # Create invoice items
        for desc, qty, price, total, product_id in receipt_items:
            if product_id:
                # Use matched product
                cursor.execute("""
                    INSERT INTO invoice_items (invoice_id, product_id, quantity, unit_price, line_total)
                    VALUES (%s, %s, %s, %s, %s)
                """, (invoice_id, product_id, qty, price, total))
                
                # Create inventory movement
                cursor.execute("""
                    INSERT INTO inventory_movements (product_id, movement_type, quantity, invoice_id, notes)
                    VALUES (%s, 'OUT', %s, %s, %s)
                """, (product_id, qty, invoice_id, f'From receipt: {desc}'))
        
        # Link receipt to created invoice
        cursor.execute("""
            UPDATE receipt_invoices 
            SET created_invoice_id = %s, verification_status = 'verified', 
                verified_by = %s, verified_at = NOW()
            WHERE receipt_invoice_id = %s
        """, (invoice_id, user_id, receipt_invoice_id))
        
        conn.commit()
        print(f"Invoice {invoice_id} created from receipt!")
        
        return {
            'success': True,
            'invoice_id': invoice_id,
            'items_created': len(receipt_items)
        }
        
    except Exception as e:
        conn.rollback()
        print(f"Error creating invoice from receipt: {e}")
        return {'success': False, 'error': str(e)}
        
    finally:
        cursor.close()
        conn.close()

def show_receipt_processing_status():
    """Show status of all receipt processing"""
    
    conn = psycopg2.connect(**DB_PARAMS)
    cursor = conn.cursor()
    
    try:
        cursor.execute("""
            SELECT ri.receipt_id, u.username, ri.captured_at, ri.status, ri.confidence_score,
                   riv.vendor_name, riv.total_amount, riv.created_invoice_id
            FROM receipt_images ri
            JOIN users u ON ri.user_id = u.user_id
            LEFT JOIN receipt_invoices riv ON ri.receipt_id = riv.receipt_id
            ORDER BY ri.captured_at DESC
        """)
        
        results = cursor.fetchall()
        
        print("Receipt Processing Status:")
        print("=" * 80)
        
        for receipt_id, username, captured_at, status, confidence, vendor, amount, invoice_id in results:
            invoice_text = f"→ Invoice {invoice_id}" if invoice_id else "No invoice created"
            confidence_text = f"({confidence:.0%})" if confidence else ""
            amount_text = f"{amount:.2f} SAR" if amount else "N/A"
            
            print(f"Receipt {receipt_id} | {username} | {captured_at} | {status} {confidence_text}")
            print(f"  {vendor or 'Unknown vendor'} | {amount_text} | {invoice_text}")
            print()
        
        if not results:
            print("No receipts processed yet")
        
        return True
        
    except Exception as e:
        print(f"Error showing status: {e}")
        return False
        
    finally:
        cursor.close()
        conn.close()

# Execute the system creation
create_receipt_scanner_system()
print("\n" + "="*60)

# Demo: Process a sample receipt
print("Demo: Processing sample receipt...")
sample_result = process_receipt_image(1, "sample_image_base64_data_here")
print(f"Sample processing result: {sample_result}")

print("\n" + "="*60)
show_receipt_processing_status()


# Clean receipt system fix - no syntax errors
def fix_receipt_system():
    """Remove overcomplicated receipt tables and create simple approval workflow"""
    
    conn = psycopg2.connect(**DB_PARAMS)
    cursor = conn.cursor()
    
    try:
        print("Fixing receipt system...")
        
        # Drop the overcomplicated tables
        tables_to_drop = ['receipt_items', 'receipt_invoices', 'receipt_images']
        
        for table in tables_to_drop:
            cursor.execute(f"DROP TABLE IF EXISTS {table} CASCADE")
            print(f"Dropped {table}")
        
        # Create simple receipt capture table with approval workflow
        cursor.execute("""
            CREATE TABLE receipt_captures (
                capture_id SERIAL PRIMARY KEY,
                user_id INTEGER NOT NULL REFERENCES users(user_id),
                image_data TEXT NOT NULL,
                captured_at TIMESTAMP DEFAULT NOW(),
                raw_ocr_text TEXT,
                extracted_vendor VARCHAR(200),
                extracted_date DATE,
                extracted_total DECIMAL(12,2),
                extracted_items JSONB,
                confidence_score DECIMAL(3,2),
                status VARCHAR(20) DEFAULT 'pending_review',
                reviewed_by INTEGER REFERENCES users(user_id),
                reviewed_at TIMESTAMP NULL,
                user_corrections JSONB,
                created_invoice_id INTEGER REFERENCES invoices(invoice_id),
                processed_at TIMESTAMP NULL
            );
        """)
        
        # Add receipt reference to existing invoices table
        cursor.execute("""
            ALTER TABLE invoices 
            ADD COLUMN IF NOT EXISTS source_type VARCHAR(20) DEFAULT 'manual',
            ADD COLUMN IF NOT EXISTS receipt_capture_id INTEGER REFERENCES receipt_captures(capture_id);
        """)
        
        cursor.execute("CREATE INDEX IF NOT EXISTS idx_receipt_captures_user ON receipt_captures(user_id);")
        cursor.execute("CREATE INDEX IF NOT EXISTS idx_receipt_captures_status ON receipt_captures(status);")
        
        conn.commit()
        print("Receipt system fixed successfully!")
        
        return True
        
    except Exception as e:
        conn.rollback()
        print(f"Error: {e}")
        return False
        
    finally:
        cursor.close()
        conn.close()

def show_workflow():
    """Show the new simplified workflow"""
    
    print("\nNEW RECEIPT WORKFLOW:")
    print("1. User captures receipt with camera")
    print("2. OCR extracts data and stores in receipt_captures (pending_review)")
    print("3. User reviews and approves/corrects the data")
    print("4. Approved data creates invoice in existing invoices table")
    print("5. Items go to invoice_items table")
    print("6. Inventory updated in inventory_movements")
    print("7. Receipt marked as processed")

# Run the fix
fix_receipt_system()
show_workflow()


# Role-Based Permission System Implementation
def create_role_based_permissions():
    """Set up the exact permission levels: Visitor, Viewer, Manager, Admin"""
    
    conn = psycopg2.connect(**DB_PARAMS)
    cursor = conn.cursor()
    
    try:
        print("Creating role-based permission system...")
        
        # Clear existing permissions to start fresh
        cursor.execute("DELETE FROM user_table_permissions")
        cursor.execute("DELETE FROM user_chart_permissions")
        
        # Update user roles to match your requirements
        cursor.execute("UPDATE users SET role = 'admin' WHERE username = 'admin'")
        cursor.execute("UPDATE users SET role = 'manager' WHERE username = 'manager1'")
        cursor.execute("UPDATE users SET role = 'viewer' WHERE username = 'analyst1'")
        cursor.execute("UPDATE users SET role = 'visitor' WHERE username = 'viewer1'")
        
        print("Updated user roles")
        
        # Get user IDs for permission assignment
        cursor.execute("SELECT user_id, username, role FROM users ORDER BY role DESC")
        users = cursor.fetchall()
        
        # Permission assignments based on your requirements
        role_permissions = {
            'admin': {
                'customers': ['READ', 'INSERT', 'UPDATE', 'DELETE'],
                'products': ['READ', 'INSERT', 'UPDATE', 'DELETE'],
                'invoices': ['READ', 'INSERT', 'UPDATE', 'DELETE'],
                'invoice_items': ['READ', 'INSERT', 'UPDATE', 'DELETE'],
                'cities': ['READ', 'INSERT', 'UPDATE', 'DELETE'],
                'inventory_movements': ['READ', 'INSERT', 'UPDATE', 'DELETE'],
                'receipt_captures': ['READ', 'INSERT', 'UPDATE', 'DELETE'],
                'users': ['READ', 'INSERT', 'UPDATE', 'DELETE']
            },
            'manager': {
                'customers': ['READ'],
                'products': ['READ'],
                'invoices': ['READ'],
                'invoice_items': ['READ'],
                'cities': ['READ'],
                'inventory_movements': ['READ'],
                'receipt_captures': ['READ', 'INSERT']  # Can add receipts only
            },
            'viewer': {
                'customers': ['READ'],  # Limited to ID only (handled in queries)
                'products': ['READ'],
                'invoices': ['READ'],
                'invoice_items': ['READ'],
                'cities': ['READ'],
                'inventory_movements': ['READ']
            },
            'visitor': {
                'invoices': ['READ']  # Sales numbers only (handled in queries)
            }
        }
        
        # Grant permissions for each user
        for user_id, username, role in users:
            if role in role_permissions:
                permissions = role_permissions[role]
                
                for table_name, perms in permissions.items():
                    for perm in perms:
                        cursor.execute("""
                            INSERT INTO user_table_permissions (user_id, table_id, permission_id, granted_by)
                            VALUES (
                                %s,
                                (SELECT table_id FROM database_tables WHERE table_name = %s),
                                (SELECT permission_id FROM permission_types WHERE permission_name = %s),
                                1
                            )
                        """, (user_id, table_name, perm))
                
                print(f"Granted permissions to {username} ({role})")
        
        conn.commit()
        print("Role-based permissions created successfully!")
        
        return True
        
    except Exception as e:
        conn.rollback()
        print(f"Error creating permissions: {e}")
        return False
        
    finally:
        cursor.close()
        conn.close()

def create_role_based_charts():
    """Create charts that respect role-based data access"""
    
    conn = psycopg2.connect(**DB_PARAMS)
    cursor = conn.cursor()
    
    try:
        print("Creating role-based charts...")
        
        # Clear existing charts
        cursor.execute("DELETE FROM charts")
        
        # Charts for VISITOR (sales numbers only)
        visitor_charts = [
            ('Total Sales', 'Overall sales performance', 'metric',
             '''SELECT 'Total Revenue' as metric, 
                       ROUND(SUM(total_amount)::numeric, 2) as value
                FROM invoices''',
             'sales', 'visitor'),
            
            ('Monthly Sales Trend', 'Sales trend over time', 'line',
             '''SELECT TO_CHAR(invoice_date, 'YYYY-MM') as month,
                       ROUND(SUM(total_amount)::numeric, 2) as sales
                FROM invoices
                WHERE invoice_date >= CURRENT_DATE - INTERVAL '12 months'
                GROUP BY TO_CHAR(invoice_date, 'YYYY-MM')
                ORDER BY month''',
             'sales', 'visitor')
        ]
        
        # Charts for VIEWER (products, sales, cities, invoices, customer IDs only)
        viewer_charts = [
            ('Product Sales Performance', 'Revenue by product', 'bar',
             '''SELECT p.name, ROUND(SUM(ii.line_total)::numeric, 2) as revenue
                FROM products p
                JOIN invoice_items ii ON p.product_id = ii.product_id
                GROUP BY p.product_id, p.name
                ORDER BY revenue DESC LIMIT 10''',
             'products', 'viewer'),
            
            ('Sales by City', 'Geographic sales distribution', 'pie',
             '''SELECT ci.city_name, ROUND(SUM(i.total_amount)::numeric, 2) as sales
                FROM cities ci
                JOIN customers c ON ci.city_id = c.city_id
                JOIN invoices i ON c.customer_id = i.customer_id
                GROUP BY ci.city_id, ci.city_name
                ORDER BY sales DESC''',
             'geographic', 'viewer'),
            
            ('Customer Sales (ID Only)', 'Top customers by ID', 'bar',
             '''SELECT CONCAT('Customer #', c.customer_id) as customer,
                       ROUND(SUM(i.total_amount)::numeric, 2) as total_spent
                FROM customers c
                JOIN invoices i ON c.customer_id = i.customer_id
                GROUP BY c.customer_id
                ORDER BY total_spent DESC LIMIT 10''',
             'customers', 'viewer'),
            
            ('Inventory Levels', 'Current stock by product', 'bar',
             '''SELECT name, stock
                FROM products
                WHERE stock > 0
                ORDER BY stock DESC LIMIT 15''',
             'inventory', 'viewer')
        ]
        
        # Charts for MANAGER (everything + customer names + receipts)
        manager_charts = [
            ('Customer Sales (With Names)', 'Top customers with names', 'bar',
             '''SELECT c.name as customer,
                       ROUND(SUM(i.total_amount)::numeric, 2) as total_spent
                FROM customers c
                JOIN invoices i ON c.customer_id = i.customer_id
                GROUP BY c.customer_id, c.name
                ORDER BY total_spent DESC LIMIT 10''',
             'customers', 'manager'),
            
            ('Receipt Processing Status', 'Receipt capture workflow', 'pie',
             '''SELECT status, COUNT(*) as count
                FROM receipt_captures
                GROUP BY status''',
             'receipts', 'manager'),
            
            ('Customer Geographic Distribution', 'Customers by city with names', 'bar',
             '''SELECT ci.city_name, COUNT(c.customer_id) as customer_count
                FROM cities ci
                LEFT JOIN customers c ON ci.city_id = c.city_id
                GROUP BY ci.city_id, ci.city_name
                ORDER BY customer_count DESC''',
             'geographic', 'manager')
        ]
        
        # Charts for ADMIN (everything + system metrics)
        admin_charts = [
            ('User Activity', 'User login and activity', 'bar',
             '''SELECT u.username, COUNT(al.log_id) as activity_count
                FROM users u
                LEFT JOIN audit_log al ON u.user_id = al.user_id
                WHERE al.timestamp >= CURRENT_DATE - INTERVAL '30 days'
                GROUP BY u.user_id, u.username
                ORDER BY activity_count DESC''',
             'system', 'admin'),
            
            ('Permission Audit', 'Recent permission changes', 'table',
             '''SELECT u.username, pa.table_name, pa.permission_name, pa.action, pa.timestamp
                FROM permission_audit pa
                JOIN users u ON pa.user_id = u.user_id
                WHERE pa.timestamp >= CURRENT_DATE - INTERVAL '7 days'
                ORDER BY pa.timestamp DESC LIMIT 20''',
             'system', 'admin'),
            
            ('Financial Summary', 'Complete business overview', 'table',
             '''SELECT 
                    'Total Revenue' as metric,
                    CONCAT(ROUND(SUM(total_amount)::numeric, 2), ' SAR') as value
                FROM invoices
                UNION ALL
                SELECT 
                    'Total Customers' as metric,
                    COUNT(*)::text as value
                FROM customers
                UNION ALL
                SELECT 
                    'Total Products' as metric,
                    COUNT(*)::text as value
                FROM products''',
             'financial', 'admin')
        ]
        
        # Insert all charts
        all_charts = visitor_charts + viewer_charts + manager_charts + admin_charts
        
        for chart_name, description, chart_type, sql_query, category, required_role in all_charts:
            cursor.execute("""
                INSERT INTO charts (chart_name, chart_description, chart_type, sql_query, category, required_role)
                VALUES (%s, %s, %s, %s, %s, %s)
            """, (chart_name, description, chart_type, sql_query, category, required_role))
        
        print(f"Created {len(all_charts)} role-based charts")
        
        conn.commit()
        return True
        
    except Exception as e:
        conn.rollback()
        print(f"Error creating charts: {e}")
        return False
        
    finally:
        cursor.close()
        conn.close()

def assign_chart_permissions():
    """Assign chart access permissions based on role hierarchy"""
    
    conn = psycopg2.connect(**DB_PARAMS)
    cursor = conn.cursor()
    
    try:
        print("Assigning chart permissions...")
        
        # Role hierarchy
        role_hierarchy = {
            'admin': 4,
            'manager': 3, 
            'viewer': 2,
            'visitor': 1
        }
        
        # Get all users and charts
        cursor.execute("SELECT user_id, username, role FROM users")
        users = cursor.fetchall()
        
        cursor.execute("SELECT chart_id, chart_name, required_role FROM charts")
        charts = cursor.fetchall()
        
        permissions_created = 0
        
        for user_id, username, user_role in users:
            user_level = role_hierarchy.get(user_role, 0)
            
            for chart_id, chart_name, required_role in charts:
                chart_level = role_hierarchy.get(required_role, 0)
                
                # User can access chart if their role level >= chart's required level
                if user_level >= chart_level:
                    can_export = user_role in ['admin', 'manager']
                    
                    cursor.execute("""
                        INSERT INTO user_chart_permissions (user_id, chart_id, can_view, can_export, granted_by)
                        VALUES (%s, %s, %s, %s, 1)
                    """, (user_id, chart_id, True, can_export))
                    
                    permissions_created += 1
        
        conn.commit()
        print(f"Created {permissions_created} chart permissions")
        
        return True
        
    except Exception as e:
        conn.rollback()
        print(f"Error assigning chart permissions: {e}")
        return False
        
    finally:
        cursor.close()
        conn.close()

def show_role_summary():
    """Show what each role can access"""
    
    conn = psycopg2.connect(**DB_PARAMS)
    cursor = conn.cursor()
    
    try:
        print("\nROLE-BASED ACCESS SUMMARY")
        print("=" * 60)
        
        # Show table permissions
        cursor.execute("""
            SELECT u.username, u.role, dt.table_name, pt.permission_name
            FROM users u
            JOIN user_table_permissions utp ON u.user_id = utp.user_id
            JOIN database_tables dt ON utp.table_id = dt.table_id
            JOIN permission_types pt ON utp.permission_id = pt.permission_id
            WHERE utp.is_active = true
            ORDER BY u.role DESC, u.username, dt.table_name, pt.permission_name
        """)
        
        table_perms = cursor.fetchall()
        
        current_user = None
        for username, role, table, permission in table_perms:
            if username != current_user:
                print(f"\n{username} ({role.upper()}):")
                current_user = username
            print(f"  {table}: {permission}")
        
        # Show chart access
        print(f"\nCHART ACCESS BY ROLE:")
        print("-" * 40)
        
        cursor.execute("""
            SELECT u.role, COUNT(DISTINCT c.chart_id) as chart_count
            FROM users u
            JOIN user_chart_permissions ucp ON u.user_id = ucp.user_id
            JOIN charts c ON ucp.chart_id = c.chart_id
            GROUP BY u.role
            ORDER BY chart_count DESC
        """)
        
        chart_access = cursor.fetchall()
        for role, count in chart_access:
            print(f"{role.upper()}: {count} charts accessible")
        
        return True
        
    except Exception as e:
        print(f"Error showing summary: {e}")
        return False
        
    finally:
        cursor.close()
        conn.close()

# Execute all role-based setup
create_role_based_permissions()
print("\n" + "="*50)
create_role_based_charts()
print("\n" + "="*50)
assign_chart_permissions()
print("\n" + "="*50)
show_role_summary()


# Fix the role constraint to allow "visitor" role
def fix_role_constraint():
    """Update the users table constraint to include visitor role"""
    
    conn = psycopg2.connect(**DB_PARAMS)
    cursor = conn.cursor()
    
    try:
        print("Fixing role constraint to allow 'visitor'...")
        
        # Drop the existing constraint
        cursor.execute("""
            ALTER TABLE users 
            DROP CONSTRAINT IF EXISTS users_role_check;
        """)
        
        # Add new constraint that includes visitor
        cursor.execute("""
            ALTER TABLE users 
            ADD CONSTRAINT users_role_check 
            CHECK (role IN ('admin', 'manager', 'analyst', 'viewer', 'visitor'));
        """)
        
        print("Updated role constraint to include visitor")
        
        # Now update viewer1 to visitor role
        cursor.execute("UPDATE users SET role = 'visitor' WHERE username = 'viewer1'")
        print("Set viewer1 to visitor role")
        
        # Grant visitor permissions (only invoices READ for sales numbers)
        cursor.execute("""
            INSERT INTO user_table_permissions (user_id, table_id, permission_id, granted_by)
            VALUES (
                (SELECT user_id FROM users WHERE username = 'viewer1'),
                (SELECT table_id FROM database_tables WHERE table_name = 'invoices'),
                (SELECT permission_id FROM permission_types WHERE permission_name = 'READ'),
                1
            )
            ON CONFLICT (user_id, table_id, permission_id) DO NOTHING
        """)
        
        print("Granted visitor permissions to viewer1")
        
        conn.commit()
        print("Role constraint fixed successfully!")
        
        return True
        
    except Exception as e:
        conn.rollback()
        print(f"Error fixing constraint: {e}")
        return False
        
    finally:
        cursor.close()
        conn.close()

def show_updated_permissions():
    """Show the corrected permission summary"""
    
    conn = psycopg2.connect(**DB_PARAMS)
    cursor = conn.cursor()
    
    try:
        print("\nUPDATED ROLE SUMMARY:")
        print("=" * 50)
        
        cursor.execute("""
            SELECT u.username, u.role, COUNT(DISTINCT utp.table_id) as table_access,
                   COUNT(DISTINCT ucp.chart_id) as chart_access
            FROM users u
            LEFT JOIN user_table_permissions utp ON u.user_id = utp.user_id AND utp.is_active = true
            LEFT JOIN user_chart_permissions ucp ON u.user_id = ucp.user_id
            GROUP BY u.user_id, u.username, u.role
            ORDER BY CASE u.role 
                WHEN 'admin' THEN 4 
                WHEN 'manager' THEN 3 
                WHEN 'viewer' THEN 2 
                WHEN 'visitor' THEN 1 
                ELSE 0 END DESC
        """)
        
        results = cursor.fetchall()
        
        for username, role, table_count, chart_count in results:
            print(f"{username} ({role.upper()}): {table_count} tables, {chart_count} charts")
        
        # Show specific visitor permissions
        print(f"\nVISITOR SPECIFIC ACCESS:")
        cursor.execute("""
            SELECT dt.table_name, pt.permission_name
            FROM users u
            JOIN user_table_permissions utp ON u.user_id = utp.user_id
            JOIN database_tables dt ON utp.table_id = dt.table_id
            JOIN permission_types pt ON utp.permission_id = pt.permission_id
            WHERE u.role = 'visitor' AND utp.is_active = true
        """)
        
        visitor_perms = cursor.fetchall()
        for table, permission in visitor_perms:
            print(f"  {table}: {permission}")
        
        return True
        
    except Exception as e:
        print(f"Error showing summary: {e}")
        return False
        
    finally:
        cursor.close()
        conn.close()

# Execute the fix
fix_role_constraint()
print("\n" + "="*40)
show_updated_permissions()


# Clean simple role system - exactly what you asked for
def create_simple_roles():
    """Delete the mess and create exactly 4 roles as requested"""
    
    conn = psycopg2.connect(**DB_PARAMS)
    cursor = conn.cursor()
    
    try:
        print("Cleaning up and creating simple role system...")
        
        # Delete existing permissions and users mess
        cursor.execute("DELETE FROM user_table_permissions")
        cursor.execute("DELETE FROM user_chart_permissions") 
        cursor.execute("DELETE FROM users WHERE username NOT IN ('admin')")
        
        # Create exactly 4 users with your roles
        users_to_create = [
            ('visitor', 'visitor@company.com', 'Visitor User', 'visitor'),
            ('viewer', 'viewer@company.com', 'Viewer User', 'viewer'), 
            ('manager', 'manager@company.com', 'Manager User', 'manager')
        ]
        
        for username, email, full_name, role in users_to_create:
            # Simple password = username
            salt = username + '_salt'
            password_hash = username + '_hash'  # Simplified for demo
            
            cursor.execute("""
                INSERT INTO users (username, email, password_hash, salt, full_name, role)
                VALUES (%s, %s, %s, %s, %s, %s)
                ON CONFLICT (username) DO UPDATE SET role = EXCLUDED.role
            """, (username, email, password_hash, salt, full_name, role))
        
        # Simple permissions - exactly as you specified
        
        # VISITOR: Only sales numbers (invoices READ only)
        cursor.execute("""
            INSERT INTO user_table_permissions (user_id, table_id, permission_id, granted_by)
            SELECT u.user_id, dt.table_id, pt.permission_id, 1
            FROM users u, database_tables dt, permission_types pt
            WHERE u.username = 'visitor' AND dt.table_name = 'invoices' AND pt.permission_name = 'READ'
        """)
        
        # VIEWER: products, sales, cities, invoices (customer IDs only)
        viewer_tables = ['products', 'invoices', 'cities', 'customers']
        for table in viewer_tables:
            cursor.execute("""
                INSERT INTO user_table_permissions (user_id, table_id, permission_id, granted_by)
                SELECT u.user_id, dt.table_id, pt.permission_id, 1
                FROM users u, database_tables dt, permission_types pt
                WHERE u.username = 'viewer' AND dt.table_name = %s AND pt.permission_name = 'READ'
            """, (table,))
        
        # MANAGER: view everything + add receipts
        manager_tables = ['customers', 'products', 'invoices', 'invoice_items', 'cities', 'inventory_movements']
        for table in manager_tables:
            cursor.execute("""
                INSERT INTO user_table_permissions (user_id, table_id, permission_id, granted_by)
                SELECT u.user_id, dt.table_id, pt.permission_id, 1
                FROM users u, database_tables dt, permission_types pt
                WHERE u.username = 'manager' AND dt.table_name = %s AND pt.permission_name = 'READ'
            """, (table,))
        
        # Manager can INSERT receipts only
        cursor.execute("""
            INSERT INTO user_table_permissions (user_id, table_id, permission_id, granted_by)
            SELECT u.user_id, dt.table_id, pt.permission_id, 1
            FROM users u, database_tables dt, permission_types pt
            WHERE u.username = 'manager' AND dt.table_name = 'receipt_captures' AND pt.permission_name = 'INSERT'
        """)
        
        # ADMIN: everything
        admin_tables = ['customers', 'products', 'invoices', 'invoice_items', 'cities', 'inventory_movements', 'receipt_captures', 'users']
        admin_perms = ['READ', 'INSERT', 'UPDATE', 'DELETE']
        for table in admin_tables:
            for perm in admin_perms:
                cursor.execute("""
                    INSERT INTO user_table_permissions (user_id, table_id, permission_id, granted_by)
                    SELECT u.user_id, dt.table_id, pt.permission_id, 1
                    FROM users u, database_tables dt, permission_types pt
                    WHERE u.username = 'admin' AND dt.table_name = %s AND pt.permission_name = %s
                """, (table, perm))
        
        conn.commit()
        
        # Show final result
        cursor.execute("""
            SELECT u.username, u.role, COUNT(*) as permissions
            FROM users u
            JOIN user_table_permissions utp ON u.user_id = utp.user_id
            GROUP BY u.username, u.role
            ORDER BY permissions
        """)
        
        results = cursor.fetchall()
        print("\nFINAL SIMPLE ROLES:")
        for username, role, perm_count in results:
            print(f"{username} ({role}): {perm_count} permissions")
        
        print("\nDone. No more complexity.")
        return True
        
    except Exception as e:
        conn.rollback()
        print(f"Error: {e}")
        return False
        
    finally:
        cursor.close()
        conn.close()

# Just run this and be done with it
create_simple_roles()


conn = psycopg2.connect(**DB_PARAMS)
cursor = conn.cursor()

# Just update the usernames, don't delete anything
cursor.execute("UPDATE users SET username = 'manager' WHERE username = 'manager1'")
cursor.execute("UPDATE users SET username = 'visitor' WHERE username = 'viewer1'")
cursor.execute("UPDATE users SET username = 'viewer' WHERE username = 'analyst1'")

conn.commit()
conn.close()
print("Usernames fixed: admin, manager, viewer, visitor")


# Test the user permission system
def test_user_permissions():
    """Test what each user can actually access"""
    
    conn = psycopg2.connect(**DB_PARAMS)
    cursor = conn.cursor()
    
    try:
        print("TESTING USER PERMISSION SYSTEM")
        print("=" * 50)
        
        # First, show all users and their roles
        cursor.execute("SELECT username, role FROM users ORDER BY username")
        users = cursor.fetchall()
        
        print("CURRENT USERS:")
        for username, role in users:
            print(f"  {username} -> {role}")
        
        print("\nTESTING PERMISSIONS FOR EACH USER:")
        print("-" * 50)
        
        # Test each user's table permissions
        for username, role in users:
            print(f"\n{username} ({role}):")
            
            cursor.execute("""
                SELECT dt.table_name, pt.permission_name
                FROM user_table_permissions utp
                JOIN users u ON utp.user_id = u.user_id
                JOIN database_tables dt ON utp.table_id = dt.table_id
                JOIN permission_types pt ON utp.permission_id = pt.permission_id
                WHERE u.username = %s AND utp.is_active = true
                ORDER BY dt.table_name, pt.permission_name
            """, (username,))
            
            permissions = cursor.fetchall()
            
            if permissions:
                for table, perm in permissions:
                    print(f"  {table}: {perm}")
            else:
                print("  NO PERMISSIONS")
        
        print(f"\nTESTING CHART ACCESS:")
        print("-" * 30)
        
        # Test chart access
        cursor.execute("""
            SELECT u.username, COUNT(c.chart_id) as chart_count
            FROM users u
            LEFT JOIN user_chart_permissions ucp ON u.user_id = ucp.user_id
            LEFT JOIN charts c ON ucp.chart_id = c.chart_id
            GROUP BY u.username, u.user_id
            ORDER BY u.username
        """)
        
        chart_access = cursor.fetchall()
        for username, chart_count in chart_access:
            print(f"  {username}: {chart_count} charts")
        
        print(f"\nVERIFYING YOUR REQUIREMENTS:")
        print("-" * 40)
        
        # Check if roles match your requirements
        requirements = {
            'visitor': ['Only invoices READ'],
            'viewer': ['customers READ', 'products READ', 'invoices READ', 'cities READ'],
            'manager': ['Everything READ', 'receipt_captures INSERT'],
            'admin': ['Everything with all permissions']
        }
        
        for username, role in users:
            if role in requirements:
                expected = requirements[role]
                print(f"{username} ({role}) should have: {', '.join(expected)}")
        
        # Test actual data access
        print(f"\nTEST DATA ACCESS:")
        print("-" * 20)
        
        # Count records in main tables
        tables_to_test = ['customers', 'products', 'invoices', 'cities']
        for table in tables_to_test:
            cursor.execute(f"SELECT COUNT(*) FROM {table}")
            count = cursor.fetchone()[0]
            print(f"{table}: {count:,} records")
        
        return True
        
    except Exception as e:
        print(f"Test failed: {e}")
        return False
        
    finally:
        cursor.close()
        conn.close()

# Run the test
test_user_permissions()


# Fix chart permissions to match proper role hierarchy
def fix_chart_permissions():
    """Fix the backwards chart permissions"""
    
    conn = psycopg2.connect(**DB_PARAMS)
    cursor = conn.cursor()
    
    try:
        print("Fixing chart permissions...")
        
        # Clear existing chart permissions
        cursor.execute("DELETE FROM user_chart_permissions")
        
        # Get user IDs
        cursor.execute("SELECT user_id, username, role FROM users")
        users = cursor.fetchall()
        
        # Get chart IDs 
        cursor.execute("SELECT chart_id, chart_name, required_role FROM charts")
        charts = cursor.fetchall()
        
        # Correct role hierarchy (higher number = more access)
        role_levels = {
            'visitor': 1,   # Least access
            'viewer': 2,    # More than visitor
            'manager': 3,   # More than viewer  
            'admin': 4      # Most access
        }
        
        permissions_created = 0
        
        for user_id, username, user_role in users:
            user_level = role_levels.get(user_role, 0)
            
            for chart_id, chart_name, required_role in charts:
                chart_level = role_levels.get(required_role, 0)
                
                # User can access chart if their level >= required level
                if user_level >= chart_level:
                    can_export = user_role in ['admin', 'manager']
                    
                    cursor.execute("""
                        INSERT INTO user_chart_permissions (user_id, chart_id, can_view, can_export, granted_by)
                        VALUES (%s, %s, %s, %s, 1)
                    """, (user_id, chart_id, True, can_export))
                    
                    permissions_created += 1
        
        conn.commit()
        
        # Test the fix
        cursor.execute("""
            SELECT u.username, u.role, COUNT(c.chart_id) as chart_count
            FROM users u
            LEFT JOIN user_chart_permissions ucp ON u.user_id = ucp.user_id
            LEFT JOIN charts c ON ucp.chart_id = c.chart_id
            GROUP BY u.username, u.role, u.user_id
            ORDER BY COUNT(c.chart_id)
        """)
        
        results = cursor.fetchall()
        
        print(f"FIXED CHART ACCESS:")
        for username, role, count in results:
            print(f"  {username} ({role}): {count} charts")
        
        print(f"\nCreated {permissions_created} chart permissions")
        
        return True
        
    except Exception as e:
        conn.rollback()
        print(f"Error fixing charts: {e}")
        return False
        
    finally:
        cursor.close()
        conn.close()

# Fix the chart permissions
fix_chart_permissions()


conn = psycopg2.connect(**DB_PARAMS)
cursor = conn.cursor()

# Delete 4500 customers, keep 500
cursor.execute("DELETE FROM customers WHERE customer_id > 500")

# Update invoices to use only customers 1-500 (randomly redistribute)
cursor.execute("""
    UPDATE invoices 
    SET customer_id = (RANDOM() * 499 + 1)::INTEGER
    WHERE customer_id > 500
""")

conn.commit()
conn.close()


# View what charts each role can access
def view_chart_details():
    """Show which specific charts each role can access"""
    
    conn = psycopg2.connect(**DB_PARAMS)
    cursor = conn.cursor()
    
    try:
        print("CHART ACCESS DETAILS BY ROLE")
        print("=" * 60)
        
        # Get all users and their accessible charts
        cursor.execute("""
            SELECT u.username, u.role, c.chart_name, c.category, c.required_role
            FROM users u
            JOIN user_chart_permissions ucp ON u.user_id = ucp.user_id
            JOIN charts c ON ucp.chart_id = c.chart_id
            WHERE ucp.can_view = true
            ORDER BY u.role, u.username, c.category, c.chart_name
        """)
        
        results = cursor.fetchall()
        
        current_user = None
        for username, role, chart_name, category, required_role in results:
            if username != current_user:
                print(f"\n{username} ({role}):")
                current_user = username
            
            print(f"  [{category}] {chart_name} (requires: {required_role})")
        
        print(f"\n" + "="*60)
        print("CHART CATEGORIES:")
        
        # Show all available charts by category
        cursor.execute("""
            SELECT category, chart_name, required_role
            FROM charts
            ORDER BY required_role, category, chart_name
        """)
        
        charts = cursor.fetchall()
        current_category = None
        
        for category, chart_name, required_role in charts:
            if category != current_category:
                print(f"\n{category.upper()}:")
                current_category = category
            
            print(f"  {chart_name} (requires: {required_role})")
        
        print(f"\n" + "="*60)
        print("ROLE HIERARCHY CHECK:")
        
        # Verify the role hierarchy is working
        role_counts = {}
        for username, role, chart_name, category, required_role in results:
            if role not in role_counts:
                role_counts[role] = 0
            role_counts[role] += 1
        
        for role, count in sorted(role_counts.items(), key=lambda x: x[1]):
            print(f"  {role}: {count} charts")
        
        return True
        
    except Exception as e:
        print(f"Error viewing charts: {e}")
        return False
        
    finally:
        cursor.close()
        conn.close()

# View the chart details
view_chart_details()


# Fix the 4 simple roles exactly as requested
def fix_simple_roles_final():
    """Create exactly 4 roles: visitor, viewer, manager, admin with correct permissions"""
    
    conn = psycopg2.connect(**DB_PARAMS)
    cursor = conn.cursor()
    
    try:
        print("Fixing roles to match your exact requirements...")
        
        # 1. Fix user roles
        cursor.execute("UPDATE users SET role = 'visitor' WHERE username IN ('viewer1', 'visitor')")
        cursor.execute("UPDATE users SET role = 'viewer' WHERE username IN ('analyst1', 'viewer')")  
        cursor.execute("UPDATE users SET role = 'manager' WHERE username IN ('manager1', 'manager')")
        cursor.execute("UPDATE users SET role = 'admin' WHERE username = 'admin'")
        
        print("Fixed user roles")
        
        # 2. Clear all permissions to start fresh
        cursor.execute("DELETE FROM user_table_permissions")
        cursor.execute("DELETE FROM user_chart_permissions")
        
        # 3. VISITOR: sales numbers only (invoices READ)
        cursor.execute("""
            INSERT INTO user_table_permissions (user_id, table_id, permission_id, granted_by)
            SELECT u.user_id, dt.table_id, pt.permission_id, 1
            FROM users u, database_tables dt, permission_types pt
            WHERE u.role = 'visitor' AND dt.table_name = 'invoices' AND pt.permission_name = 'READ'
        """)
        
        # 4. VIEWER: products/sales/cities/invoices, customer IDs only
        viewer_tables = ['products', 'invoices', 'cities', 'customers']
        for table in viewer_tables:
            cursor.execute("""
                INSERT INTO user_table_permissions (user_id, table_id, permission_id, granted_by)
                SELECT u.user_id, dt.table_id, pt.permission_id, 1
                FROM users u, database_tables dt, permission_types pt
                WHERE u.role = 'viewer' AND dt.table_name = %s AND pt.permission_name = 'READ'
            """, (table,))
        
        # 5. MANAGER: view everything + add receipts
        manager_read_tables = ['customers', 'products', 'invoices', 'invoice_items', 'cities', 'inventory_movements', 'receipt_captures']
        for table in manager_read_tables:
            cursor.execute("""
                INSERT INTO user_table_permissions (user_id, table_id, permission_id, granted_by)
                SELECT u.user_id, dt.table_id, pt.permission_id, 1
                FROM users u, database_tables dt, permission_types pt
                WHERE u.role = 'manager' AND dt.table_name = %s AND pt.permission_name = 'READ'
            """, (table,))
        
        # Manager can INSERT receipts
        cursor.execute("""
            INSERT INTO user_table_permissions (user_id, table_id, permission_id, granted_by)
            SELECT u.user_id, dt.table_id, pt.permission_id, 1
            FROM users u, database_tables dt, permission_types pt
            WHERE u.role = 'manager' AND dt.table_name = 'receipt_captures' AND pt.permission_name = 'INSERT'
        """)
        
        # 6. ADMIN: full control (READ, INSERT, UPDATE, DELETE)
        admin_tables = ['customers', 'products', 'invoices', 'invoice_items', 'cities', 'inventory_movements', 'receipt_captures', 'users']
        admin_perms = ['READ', 'INSERT', 'UPDATE', 'DELETE']
        for table in admin_tables:
            for perm in admin_perms:
                cursor.execute("""
                    INSERT INTO user_table_permissions (user_id, table_id, permission_id, granted_by)
                    SELECT u.user_id, dt.table_id, pt.permission_id, 1
                    FROM users u, database_tables dt, permission_types pt
                    WHERE u.role = 'admin' AND dt.table_name = %s AND pt.permission_name = %s
                """, (table, perm))
        
        # 7. Fix chart permissions with correct hierarchy
        # VISITOR: only sales charts
        visitor_charts = ['Total Sales', 'Monthly Sales Trend']
        for chart in visitor_charts:
            cursor.execute("""
                INSERT INTO user_chart_permissions (user_id, chart_id, can_view, can_export, granted_by)
                SELECT u.user_id, c.chart_id, true, false, 1
                FROM users u, charts c
                WHERE u.role = 'visitor' AND c.chart_name = %s
            """, (chart,))
        
        # VIEWER: visitor charts + product/city/customer ID charts
        viewer_charts = visitor_charts + ['Product Sales Performance', 'Sales by City', 'Customer Sales (ID Only)', 'Inventory Levels']
        for chart in viewer_charts:
            cursor.execute("""
                INSERT INTO user_chart_permissions (user_id, chart_id, can_view, can_export, granted_by)
                SELECT u.user_id, c.chart_id, true, false, 1
                FROM users u, charts c
                WHERE u.role = 'viewer' AND c.chart_name = %s
            """, (chart,))
        
        # MANAGER: viewer charts + customer names + receipts
        manager_charts = viewer_charts + ['Customer Sales (With Names)', 'Customer Geographic Distribution', 'Receipt Processing Status']
        for chart in manager_charts:
            cursor.execute("""
                INSERT INTO user_chart_permissions (user_id, chart_id, can_view, can_export, granted_by)
                SELECT u.user_id, c.chart_id, true, true, 1
                FROM users u, charts c
                WHERE u.role = 'manager' AND c.chart_name = %s
            """, (chart,))
        
        # ADMIN: all charts
        cursor.execute("""
            INSERT INTO user_chart_permissions (user_id, chart_id, can_view, can_export, granted_by)
            SELECT u.user_id, c.chart_id, true, true, 1
            FROM users u, charts c
            WHERE u.role = 'admin'
        """)
        
        conn.commit()
        
        # Test results
        cursor.execute("""
            SELECT u.username, u.role, 
                   COUNT(DISTINCT utp.table_id) as table_access,
                   COUNT(DISTINCT ucp.chart_id) as chart_access
            FROM users u
            LEFT JOIN user_table_permissions utp ON u.user_id = utp.user_id AND utp.is_active = true
            LEFT JOIN user_chart_permissions ucp ON u.user_id = ucp.user_id
            GROUP BY u.username, u.role
            ORDER BY CASE u.role 
                WHEN 'visitor' THEN 1 
                WHEN 'viewer' THEN 2 
                WHEN 'manager' THEN 3 
                WHEN 'admin' THEN 4 END
        """)
        
        results = cursor.fetchall()
        
        print("\nFIXED ROLES:")
        for username, role, table_count, chart_count in results:
            print(f"{username} ({role}): {table_count} tables, {chart_count} charts")
        
        print("\nRole hierarchy should be: visitor < viewer < manager < admin")
        
        return True
        
    except Exception as e:
        conn.rollback()
        print(f"Error: {e}")
        return False
        
    finally:
        cursor.close()
        conn.close()

# Fix the roles
fix_simple_roles_final()


# Verify the 4 roles are correctly set up
def verify_roles():
    """Test that roles match your exact requirements"""
    
    conn = psycopg2.connect(**DB_PARAMS)
    cursor = conn.cursor()
    
    try:
        print("VERIFYING ROLE SETUP")
        print("=" * 50)
        
        # Check each role's permissions
        roles_to_check = ['visitor', 'viewer', 'manager', 'admin']
        
        for role in roles_to_check:
            print(f"\n{role.upper()}:")
            
            # Table permissions
            cursor.execute("""
                SELECT dt.table_name, pt.permission_name
                FROM users u
                JOIN user_table_permissions utp ON u.user_id = utp.user_id
                JOIN database_tables dt ON utp.table_id = dt.table_id
                JOIN permission_types pt ON utp.permission_id = pt.permission_id
                WHERE u.role = %s AND utp.is_active = true
                ORDER BY dt.table_name, pt.permission_name
            """, (role,))
            
            table_perms = cursor.fetchall()
            print("  Tables:")
            for table, perm in table_perms:
                print(f"    {table}: {perm}")
            
            # Chart access
            cursor.execute("""
                SELECT c.chart_name, c.category
                FROM users u
                JOIN user_chart_permissions ucp ON u.user_id = ucp.user_id
                JOIN charts c ON ucp.chart_id = c.chart_id
                WHERE u.role = %s
                ORDER BY c.category, c.chart_name
            """, (role,))
            
            charts = cursor.fetchall()
            print("  Charts:")
            for chart, category in charts:
                print(f"    [{category}] {chart}")
        
        print(f"\n" + "="*50)
        print("REQUIREMENT CHECK:")
        
        # Check specific requirements
        requirements = {
            'visitor': {
                'should_have': ['invoices READ'],
                'should_not_have': ['customers', 'products', 'cities']
            },
            'viewer': {
                'should_have': ['products READ', 'invoices READ', 'cities READ', 'customers READ'],
                'chart_note': 'Customer charts should show IDs only'
            },
            'manager': {
                'should_have': ['everything READ', 'receipt_captures INSERT'],
                'should_not_have': ['UPDATE', 'DELETE on business tables']
            },
            'admin': {
                'should_have': ['everything with all permissions'],
                'note': 'Full control'
            }
        }
        
        for role, req in requirements.items():
            print(f"\n{role.upper()} requirements:")
            if 'should_have' in req:
                print(f"  Should have: {', '.join(req['should_have'])}")
            if 'should_not_have' in req:
                print(f"  Should NOT have: {', '.join(req['should_not_have'])}")
            if 'note' in req:
                print(f"  Note: {req['note']}")
            if 'chart_note' in req:
                print(f"  Chart note: {req['chart_note']}")
        
        # Count summary
        print(f"\n" + "="*30)
        print("ACCESS SUMMARY:")
        
        cursor.execute("""
            SELECT u.role, 
                   COUNT(DISTINCT utp.table_id) as tables,
                   COUNT(DISTINCT ucp.chart_id) as charts,
                   COUNT(DISTINCT CASE WHEN pt.permission_name != 'READ' THEN utp.table_id END) as write_access
            FROM users u
            LEFT JOIN user_table_permissions utp ON u.user_id = utp.user_id AND utp.is_active = true
            LEFT JOIN user_chart_permissions ucp ON u.user_id = ucp.user_id
            LEFT JOIN permission_types pt ON utp.permission_id = pt.permission_id
            GROUP BY u.role
            ORDER BY COUNT(DISTINCT ucp.chart_id)
        """)
        
        summary = cursor.fetchall()
        for role, tables, charts, write_access in summary:
            print(f"{role}: {tables} tables, {charts} charts, {write_access} write permissions")
        
        print(f"\nExpected hierarchy: visitor < viewer < manager < admin")
        
        return True
        
    except Exception as e:
        print(f"Verification error: {e}")
        return False
        
    finally:
        cursor.close()
        conn.close()

# Run verification
verify_roles()


# Check what Manager currently has before adding anything
conn = psycopg2.connect(**DB_PARAMS)
cursor = conn.cursor()

cursor.execute("""
    SELECT dt.table_name, pt.permission_name
    FROM users u
    JOIN user_table_permissions utp ON u.user_id = utp.user_id
    JOIN database_tables dt ON utp.table_id = dt.table_id
    JOIN permission_types pt ON utp.permission_id = pt.permission_id
    WHERE u.role = 'manager'
    ORDER BY dt.table_name, pt.permission_name
""")

current_perms = cursor.fetchall()
print("Manager's current permissions:")
for table, perm in current_perms:
    print(f"  {table}: {perm}")

conn.close()


# Give Manager INSERT permissions for creating invoices after receipt verification
def fix_manager_insert_permissions():
    """Add INSERT permissions for Manager on business tables"""
    
    conn = psycopg2.connect(**DB_PARAMS)
    cursor = conn.cursor()
    
    try:
        print("Adding INSERT permissions for Manager...")
        
        # Manager should be able to INSERT after verifying receipt data
        manager_insert_tables = [
            'invoices',        # Create invoice from verified receipt
            'invoice_items',   # Create line items from verified receipt  
            'inventory_movements',  # Update stock from verified receipt
            'customers'        # Add new customer if not exists from receipt
        ]
        
        for table in manager_insert_tables:
            cursor.execute("""
                INSERT INTO user_table_permissions (user_id, table_id, permission_id, granted_by)
                SELECT u.user_id, dt.table_id, pt.permission_id, 1
                FROM users u, database_tables dt, permission_types pt
                WHERE u.role = 'manager' AND dt.table_name = %s AND pt.permission_name = 'INSERT'
                ON CONFLICT (user_id, table_id, permission_id) DO NOTHING
            """, (table,))
        
        print(f"Added INSERT permissions for Manager on: {', '.join(manager_insert_tables)}")
        
        conn.commit()
        
        # Verify Manager permissions now
        cursor.execute("""
            SELECT dt.table_name, pt.permission_name
            FROM users u
            JOIN user_table_permissions utp ON u.user_id = utp.user_id
            JOIN database_tables dt ON utp.table_id = dt.table_id
            JOIN permission_types pt ON utp.permission_id = pt.permission_id
            WHERE u.role = 'manager' AND utp.is_active = true
            ORDER BY dt.table_name, pt.permission_name
        """)
        
        manager_perms = cursor.fetchall()
        
        print("\nMANAGER PERMISSIONS NOW:")
        current_table = None
        for table, perm in manager_perms:
            if table != current_table:
                print(f"\n{table}:")
                current_table = table
            print(f"  {perm}")
        
        print(f"\nManager workflow:")
        print("1. Take receipt photo → INSERT receipt_captures")
        print("2. Review extracted data → verify/correct") 
        print("3. Approve receipt → INSERT invoice, invoice_items, inventory_movements")
        print("4. Cannot UPDATE/DELETE existing records (admin only)")
        
        return True
        
    except Exception as e:
        conn.rollback()
        print(f"Error: {e}")
        return False
        
    finally:
        cursor.close()
        conn.close()

# Fix manager permissions
fix_manager_insert_permissions()


import hashlib

conn = psycopg2.connect(**DB_PARAMS)
cursor = conn.cursor()

# Update admin credentials
username = 'AmmarKateb'
password = 'Hexen2002_23'
salt = hashlib.sha256(username.encode()).hexdigest()[:16]
password_hash = hashlib.sha256((password + salt).encode()).hexdigest()

cursor.execute("""
    UPDATE users 
    SET username = %s, password_hash = %s, salt = %s, full_name = 'Ammar Kateb'
    WHERE username = 'admin'
""", (username, password_hash, salt))

conn.commit()
conn.close()
print("Admin credentials updated")


# Fix the customer count - reduce to 500 customers, redistribute invoices
def fix_customer_count():
    conn = psycopg2.connect(**DB_PARAMS)
    cursor = conn.cursor()
    
    try:
        print("Fixing customer count...")
        
        # Keep only first 500 customers, delete the rest
        cursor.execute("DELETE FROM customers WHERE customer_id > 500")
        deleted_customers = cursor.rowcount
        print(f"Deleted {deleted_customers} excess customers")
        
        # Redistribute orphaned invoices to remaining customers (1-500)
        cursor.execute("""
            UPDATE invoices 
            SET customer_id = (RANDOM() * 499 + 1)::INTEGER 
            WHERE customer_id > 500
        """)
        updated_invoices = cursor.rowcount
        print(f"Redistributed {updated_invoices} invoices to remaining customers")
        
        conn.commit()
        
        # Check final counts
        cursor.execute("SELECT COUNT(*) FROM customers")
        customers = cursor.fetchone()[0]
        
        cursor.execute("SELECT COUNT(*) FROM invoices")
        invoices = cursor.fetchone()[0]
        
        print(f"Final counts: {customers} customers, {invoices} invoices")
        print(f"Average invoices per customer: {invoices/customers:.1f}")
        
        return True
        
    except Exception as e:
        conn.rollback()
        print(f"Error: {e}")
        return False
        
    finally:
        cursor.close()
        conn.close()

# Run the fix
fix_customer_count()


# Fix customer count - correct order to handle foreign keys
def fix_customer_count_properly():
    conn = psycopg2.connect(**DB_PARAMS)
    cursor = conn.cursor()
    
    try:
        print("Fixing customer count (handling foreign keys)...")
        
        # Step 1: Redistribute invoices BEFORE deleting customers
        cursor.execute("""
            UPDATE invoices 
            SET customer_id = (RANDOM() * 499 + 1)::INTEGER 
            WHERE customer_id > 500
        """)
        updated_invoices = cursor.rowcount
        print(f"Redistributed {updated_invoices} invoices to customers 1-500")
        
        # Step 2: Now delete the excess customers (no invoices reference them)
        cursor.execute("DELETE FROM customers WHERE customer_id > 500")
        deleted_customers = cursor.rowcount
        print(f"Deleted {deleted_customers} excess customers")
        
        conn.commit()
        
        # Check final counts
        cursor.execute("SELECT COUNT(*) FROM customers")
        customers = cursor.fetchone()[0]
        
        cursor.execute("SELECT COUNT(*) FROM invoices")
        invoices = cursor.fetchone()[0]
        
        cursor.execute("SELECT customer_id, COUNT(*) as invoice_count FROM invoices GROUP BY customer_id ORDER BY invoice_count DESC LIMIT 5")
        top_customers = cursor.fetchall()
        
        print(f"\nFinal counts: {customers} customers, {invoices} invoices")
        print(f"Average invoices per customer: {invoices/customers:.1f}")
        print(f"\nTop customers by invoice count:")
        for customer_id, count in top_customers:
            print(f"  Customer {customer_id}: {count} invoices")
        
        return True
        
    except Exception as e:
        conn.rollback()
        print(f"Error: {e}")
        return False
        
    finally:
        cursor.close()
        conn.close()

# Run the corrected fix
fix_customer_count_properly()



